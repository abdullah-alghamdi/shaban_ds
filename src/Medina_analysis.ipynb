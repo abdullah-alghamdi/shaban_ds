{
 "cells": [
  {
   "cell_type": "code",
   "execution_count": 116,
   "metadata": {},
   "outputs": [],
   "source": [
    "\n",
    "import os\n",
    "import sys\n",
    "import itertools\n",
    "from ummalqura.hijri_date import HijriDate\n",
    "from datetime import date\n",
    "import glob \n",
    "import numpy as np \n",
    "import pandas as pd \n",
    "import plotly\n",
    "from plotly.graph_objs import Layout,Histogram\n",
    "import plotly.graph_objects as go\n",
    "import seaborn as sns; sns.set()\n",
    "\n",
    "import matplotlib.pyplot as plt\n",
    "%matplotlib inline  "
   ]
  },
  {
   "cell_type": "markdown",
   "metadata": {},
   "source": [
    "The data that will be used in this analysis was scarped using the method in get_data notebook. For time sake, I scarped only around 20k data samples accross multiple years. "
   ]
  },
  {
   "cell_type": "code",
   "execution_count": 70,
   "metadata": {},
   "outputs": [],
   "source": [
    "df = pd.read_csv(\"../data/data_m.csv\")"
   ]
  },
  {
   "cell_type": "code",
   "execution_count": 71,
   "metadata": {},
   "outputs": [
    {
     "data": {
      "text/html": [
       "<div>\n",
       "<style scoped>\n",
       "    .dataframe tbody tr th:only-of-type {\n",
       "        vertical-align: middle;\n",
       "    }\n",
       "\n",
       "    .dataframe tbody tr th {\n",
       "        vertical-align: top;\n",
       "    }\n",
       "\n",
       "    .dataframe thead th {\n",
       "        text-align: right;\n",
       "    }\n",
       "</style>\n",
       "<table border=\"1\" class=\"dataframe\">\n",
       "  <thead>\n",
       "    <tr style=\"text-align: right;\">\n",
       "      <th></th>\n",
       "      <th>name</th>\n",
       "      <th>sex</th>\n",
       "      <th>nationality</th>\n",
       "      <th>age</th>\n",
       "      <th>DOD</th>\n",
       "    </tr>\n",
       "  </thead>\n",
       "  <tbody>\n",
       "    <tr>\n",
       "      <th>0</th>\n",
       "      <td>عيشه بنت محمد تكروني</td>\n",
       "      <td>أنثى</td>\n",
       "      <td>سعودي</td>\n",
       "      <td>NaN</td>\n",
       "      <td>1364/08/29</td>\n",
       "    </tr>\n",
       "    <tr>\n",
       "      <th>1</th>\n",
       "      <td>عفيه بنت محمد</td>\n",
       "      <td>أنثى</td>\n",
       "      <td>سعودي</td>\n",
       "      <td>NaN</td>\n",
       "      <td>1364/08/29</td>\n",
       "    </tr>\n",
       "    <tr>\n",
       "      <th>2</th>\n",
       "      <td>منير بنت عوده</td>\n",
       "      <td>أنثى</td>\n",
       "      <td>سعودي</td>\n",
       "      <td>2 سنة</td>\n",
       "      <td>1365/01/10</td>\n",
       "    </tr>\n",
       "    <tr>\n",
       "      <th>3</th>\n",
       "      <td>زهره علي بادري</td>\n",
       "      <td>أنثى</td>\n",
       "      <td>سعودي</td>\n",
       "      <td>50 سنة</td>\n",
       "      <td>1365/04/17</td>\n",
       "    </tr>\n",
       "    <tr>\n",
       "      <th>4</th>\n",
       "      <td>زينب بنت عقل سي</td>\n",
       "      <td>أنثى</td>\n",
       "      <td>سعودي</td>\n",
       "      <td>NaN</td>\n",
       "      <td>1365/05/22</td>\n",
       "    </tr>\n",
       "  </tbody>\n",
       "</table>\n",
       "</div>"
      ],
      "text/plain": [
       "                   name   sex nationality     age         DOD\n",
       "0  عيشه بنت محمد تكروني  أنثى       سعودي     NaN  1364/08/29\n",
       "1         عفيه بنت محمد  أنثى       سعودي     NaN  1364/08/29\n",
       "2         منير بنت عوده  أنثى       سعودي   2 سنة  1365/01/10\n",
       "3        زهره علي بادري  أنثى       سعودي  50 سنة  1365/04/17\n",
       "4       زينب بنت عقل سي  أنثى       سعودي     NaN  1365/05/22"
      ]
     },
     "execution_count": 71,
     "metadata": {},
     "output_type": "execute_result"
    }
   ],
   "source": [
    "df.head()"
   ]
  },
  {
   "cell_type": "code",
   "execution_count": 72,
   "metadata": {},
   "outputs": [
    {
     "data": {
      "text/plain": [
       "(20499, 5)"
      ]
     },
     "execution_count": 72,
     "metadata": {},
     "output_type": "execute_result"
    }
   ],
   "source": [
    "df.shape"
   ]
  },
  {
   "cell_type": "markdown",
   "metadata": {},
   "source": [
    "Okay we have 20499 samples. let's clean up the features"
   ]
  },
  {
   "cell_type": "code",
   "execution_count": 73,
   "metadata": {},
   "outputs": [
    {
     "data": {
      "text/plain": [
       "name           20498\n",
       "sex            20499\n",
       "nationality    20378\n",
       "age            20460\n",
       "DOD            20499\n",
       "dtype: int64"
      ]
     },
     "execution_count": 73,
     "metadata": {},
     "output_type": "execute_result"
    }
   ],
   "source": [
    "# check missing values\n",
    "df.count()"
   ]
  },
  {
   "cell_type": "code",
   "execution_count": 74,
   "metadata": {},
   "outputs": [],
   "source": [
    "# name has one, drop it\n",
    "df = df.dropna(subset=[\"name\"])"
   ]
  },
  {
   "cell_type": "markdown",
   "metadata": {},
   "source": [
    "I will keep the nationality column just for the sake of the analysis, otherwise I don't think it matters in our task "
   ]
  },
  {
   "cell_type": "code",
   "execution_count": 75,
   "metadata": {},
   "outputs": [],
   "source": [
    "# for the nationality, let's assume that the missing values are Saudies since the sample majority is Saudies\n",
    "df.nationality = df.nationality.fillna(\"سعودي\")"
   ]
  },
  {
   "cell_type": "code",
   "execution_count": 76,
   "metadata": {},
   "outputs": [],
   "source": [
    "# from what I noticed from the names column, most nan values in age is for new born babies who died \n",
    "# (sometimes they are named \"the baby of [name of the father]\")\n",
    "# for that reason I will put them all in one category of 1 year old, along with any age value lower than 1 year old\n",
    "df.age = df.age.fillna('1 سنة')\n",
    "year_vocab = ['سنة', 'سنوات']\n",
    "df.age = df.age.apply(lambda x: x if x.split()[1] in year_vocab else '1 سنة' )\n",
    "# now just keep the numerical value since we know it's in years\n",
    "df.age = df.age.apply(lambda x: int(x.split()[0]))"
   ]
  },
  {
   "cell_type": "code",
   "execution_count": 77,
   "metadata": {},
   "outputs": [
    {
     "data": {
      "text/html": [
       "<div>\n",
       "<style scoped>\n",
       "    .dataframe tbody tr th:only-of-type {\n",
       "        vertical-align: middle;\n",
       "    }\n",
       "\n",
       "    .dataframe tbody tr th {\n",
       "        vertical-align: top;\n",
       "    }\n",
       "\n",
       "    .dataframe thead th {\n",
       "        text-align: right;\n",
       "    }\n",
       "</style>\n",
       "<table border=\"1\" class=\"dataframe\">\n",
       "  <thead>\n",
       "    <tr style=\"text-align: right;\">\n",
       "      <th></th>\n",
       "      <th>name</th>\n",
       "      <th>sex</th>\n",
       "      <th>nationality</th>\n",
       "      <th>age</th>\n",
       "      <th>DOD</th>\n",
       "    </tr>\n",
       "  </thead>\n",
       "  <tbody>\n",
       "    <tr>\n",
       "      <th>0</th>\n",
       "      <td>عيشه بنت محمد تكروني</td>\n",
       "      <td>أنثى</td>\n",
       "      <td>سعودي</td>\n",
       "      <td>1</td>\n",
       "      <td>1364/08/29</td>\n",
       "    </tr>\n",
       "    <tr>\n",
       "      <th>1</th>\n",
       "      <td>عفيه بنت محمد</td>\n",
       "      <td>أنثى</td>\n",
       "      <td>سعودي</td>\n",
       "      <td>1</td>\n",
       "      <td>1364/08/29</td>\n",
       "    </tr>\n",
       "    <tr>\n",
       "      <th>2</th>\n",
       "      <td>منير بنت عوده</td>\n",
       "      <td>أنثى</td>\n",
       "      <td>سعودي</td>\n",
       "      <td>2</td>\n",
       "      <td>1365/01/10</td>\n",
       "    </tr>\n",
       "    <tr>\n",
       "      <th>3</th>\n",
       "      <td>زهره علي بادري</td>\n",
       "      <td>أنثى</td>\n",
       "      <td>سعودي</td>\n",
       "      <td>50</td>\n",
       "      <td>1365/04/17</td>\n",
       "    </tr>\n",
       "    <tr>\n",
       "      <th>4</th>\n",
       "      <td>زينب بنت عقل سي</td>\n",
       "      <td>أنثى</td>\n",
       "      <td>سعودي</td>\n",
       "      <td>1</td>\n",
       "      <td>1365/05/22</td>\n",
       "    </tr>\n",
       "  </tbody>\n",
       "</table>\n",
       "</div>"
      ],
      "text/plain": [
       "                   name   sex nationality  age         DOD\n",
       "0  عيشه بنت محمد تكروني  أنثى       سعودي    1  1364/08/29\n",
       "1         عفيه بنت محمد  أنثى       سعودي    1  1364/08/29\n",
       "2         منير بنت عوده  أنثى       سعودي    2  1365/01/10\n",
       "3        زهره علي بادري  أنثى       سعودي   50  1365/04/17\n",
       "4       زينب بنت عقل سي  أنثى       سعودي    1  1365/05/22"
      ]
     },
     "execution_count": 77,
     "metadata": {},
     "output_type": "execute_result"
    }
   ],
   "source": [
    "df.head()"
   ]
  },
  {
   "cell_type": "code",
   "execution_count": 78,
   "metadata": {},
   "outputs": [],
   "source": [
    "# let's seperate years from months\n",
    "df[\"DOD_y\"] = df.DOD.apply(lambda x: int(x.split(\"/\")[0]))\n",
    "df[\"DOD_m\"] = df.DOD.apply(lambda x: int(x.split(\"/\")[1]))"
   ]
  },
  {
   "cell_type": "code",
   "execution_count": 79,
   "metadata": {},
   "outputs": [],
   "source": [
    "# Since it's all about Shaban, let's make a column for it\n",
    "df[\"is_shaban\"] = df.DOD_m.apply(lambda x: 1 if x==8 else 0)"
   ]
  },
  {
   "cell_type": "code",
   "execution_count": 80,
   "metadata": {},
   "outputs": [
    {
     "data": {
      "text/html": [
       "<div>\n",
       "<style scoped>\n",
       "    .dataframe tbody tr th:only-of-type {\n",
       "        vertical-align: middle;\n",
       "    }\n",
       "\n",
       "    .dataframe tbody tr th {\n",
       "        vertical-align: top;\n",
       "    }\n",
       "\n",
       "    .dataframe thead th {\n",
       "        text-align: right;\n",
       "    }\n",
       "</style>\n",
       "<table border=\"1\" class=\"dataframe\">\n",
       "  <thead>\n",
       "    <tr style=\"text-align: right;\">\n",
       "      <th></th>\n",
       "      <th>name</th>\n",
       "      <th>sex</th>\n",
       "      <th>nationality</th>\n",
       "      <th>age</th>\n",
       "      <th>DOD</th>\n",
       "      <th>DOD_y</th>\n",
       "      <th>DOD_m</th>\n",
       "      <th>is_shaban</th>\n",
       "    </tr>\n",
       "  </thead>\n",
       "  <tbody>\n",
       "    <tr>\n",
       "      <th>0</th>\n",
       "      <td>عيشه بنت محمد تكروني</td>\n",
       "      <td>أنثى</td>\n",
       "      <td>سعودي</td>\n",
       "      <td>1</td>\n",
       "      <td>1364/08/29</td>\n",
       "      <td>1364</td>\n",
       "      <td>8</td>\n",
       "      <td>1</td>\n",
       "    </tr>\n",
       "    <tr>\n",
       "      <th>1</th>\n",
       "      <td>عفيه بنت محمد</td>\n",
       "      <td>أنثى</td>\n",
       "      <td>سعودي</td>\n",
       "      <td>1</td>\n",
       "      <td>1364/08/29</td>\n",
       "      <td>1364</td>\n",
       "      <td>8</td>\n",
       "      <td>1</td>\n",
       "    </tr>\n",
       "    <tr>\n",
       "      <th>2</th>\n",
       "      <td>منير بنت عوده</td>\n",
       "      <td>أنثى</td>\n",
       "      <td>سعودي</td>\n",
       "      <td>2</td>\n",
       "      <td>1365/01/10</td>\n",
       "      <td>1365</td>\n",
       "      <td>1</td>\n",
       "      <td>0</td>\n",
       "    </tr>\n",
       "    <tr>\n",
       "      <th>3</th>\n",
       "      <td>زهره علي بادري</td>\n",
       "      <td>أنثى</td>\n",
       "      <td>سعودي</td>\n",
       "      <td>50</td>\n",
       "      <td>1365/04/17</td>\n",
       "      <td>1365</td>\n",
       "      <td>4</td>\n",
       "      <td>0</td>\n",
       "    </tr>\n",
       "    <tr>\n",
       "      <th>4</th>\n",
       "      <td>زينب بنت عقل سي</td>\n",
       "      <td>أنثى</td>\n",
       "      <td>سعودي</td>\n",
       "      <td>1</td>\n",
       "      <td>1365/05/22</td>\n",
       "      <td>1365</td>\n",
       "      <td>5</td>\n",
       "      <td>0</td>\n",
       "    </tr>\n",
       "  </tbody>\n",
       "</table>\n",
       "</div>"
      ],
      "text/plain": [
       "                   name   sex nationality  age         DOD  DOD_y  DOD_m  \\\n",
       "0  عيشه بنت محمد تكروني  أنثى       سعودي    1  1364/08/29   1364      8   \n",
       "1         عفيه بنت محمد  أنثى       سعودي    1  1364/08/29   1364      8   \n",
       "2         منير بنت عوده  أنثى       سعودي    2  1365/01/10   1365      1   \n",
       "3        زهره علي بادري  أنثى       سعودي   50  1365/04/17   1365      4   \n",
       "4       زينب بنت عقل سي  أنثى       سعودي    1  1365/05/22   1365      5   \n",
       "\n",
       "   is_shaban  \n",
       "0          1  \n",
       "1          1  \n",
       "2          0  \n",
       "3          0  \n",
       "4          0  "
      ]
     },
     "execution_count": 80,
     "metadata": {},
     "output_type": "execute_result"
    }
   ],
   "source": [
    "df.head()"
   ]
  },
  {
   "cell_type": "markdown",
   "metadata": {},
   "source": [
    "----\n",
    "### Death value count by month"
   ]
  },
  {
   "cell_type": "code",
   "execution_count": 82,
   "metadata": {},
   "outputs": [
    {
     "data": {
      "application/vnd.plotly.v1+json": {
       "config": {
        "plotlyServerURL": "https://plot.ly"
       },
       "data": [
        {
         "type": "bar",
         "x": [
          12,
          9,
          11,
          1,
          2,
          8,
          10,
          3,
          4,
          7,
          6,
          5
         ],
         "y": [
          2725,
          2082,
          1965,
          1868,
          1839,
          1662,
          1605,
          1526,
          1345,
          1339,
          1319,
          1223
         ]
        }
       ],
       "layout": {
        "template": {
         "data": {
          "bar": [
           {
            "error_x": {
             "color": "#2a3f5f"
            },
            "error_y": {
             "color": "#2a3f5f"
            },
            "marker": {
             "line": {
              "color": "#E5ECF6",
              "width": 0.5
             }
            },
            "type": "bar"
           }
          ],
          "barpolar": [
           {
            "marker": {
             "line": {
              "color": "#E5ECF6",
              "width": 0.5
             }
            },
            "type": "barpolar"
           }
          ],
          "carpet": [
           {
            "aaxis": {
             "endlinecolor": "#2a3f5f",
             "gridcolor": "white",
             "linecolor": "white",
             "minorgridcolor": "white",
             "startlinecolor": "#2a3f5f"
            },
            "baxis": {
             "endlinecolor": "#2a3f5f",
             "gridcolor": "white",
             "linecolor": "white",
             "minorgridcolor": "white",
             "startlinecolor": "#2a3f5f"
            },
            "type": "carpet"
           }
          ],
          "choropleth": [
           {
            "colorbar": {
             "outlinewidth": 0,
             "ticks": ""
            },
            "type": "choropleth"
           }
          ],
          "contour": [
           {
            "colorbar": {
             "outlinewidth": 0,
             "ticks": ""
            },
            "colorscale": [
             [
              0,
              "#0d0887"
             ],
             [
              0.1111111111111111,
              "#46039f"
             ],
             [
              0.2222222222222222,
              "#7201a8"
             ],
             [
              0.3333333333333333,
              "#9c179e"
             ],
             [
              0.4444444444444444,
              "#bd3786"
             ],
             [
              0.5555555555555556,
              "#d8576b"
             ],
             [
              0.6666666666666666,
              "#ed7953"
             ],
             [
              0.7777777777777778,
              "#fb9f3a"
             ],
             [
              0.8888888888888888,
              "#fdca26"
             ],
             [
              1,
              "#f0f921"
             ]
            ],
            "type": "contour"
           }
          ],
          "contourcarpet": [
           {
            "colorbar": {
             "outlinewidth": 0,
             "ticks": ""
            },
            "type": "contourcarpet"
           }
          ],
          "heatmap": [
           {
            "colorbar": {
             "outlinewidth": 0,
             "ticks": ""
            },
            "colorscale": [
             [
              0,
              "#0d0887"
             ],
             [
              0.1111111111111111,
              "#46039f"
             ],
             [
              0.2222222222222222,
              "#7201a8"
             ],
             [
              0.3333333333333333,
              "#9c179e"
             ],
             [
              0.4444444444444444,
              "#bd3786"
             ],
             [
              0.5555555555555556,
              "#d8576b"
             ],
             [
              0.6666666666666666,
              "#ed7953"
             ],
             [
              0.7777777777777778,
              "#fb9f3a"
             ],
             [
              0.8888888888888888,
              "#fdca26"
             ],
             [
              1,
              "#f0f921"
             ]
            ],
            "type": "heatmap"
           }
          ],
          "heatmapgl": [
           {
            "colorbar": {
             "outlinewidth": 0,
             "ticks": ""
            },
            "colorscale": [
             [
              0,
              "#0d0887"
             ],
             [
              0.1111111111111111,
              "#46039f"
             ],
             [
              0.2222222222222222,
              "#7201a8"
             ],
             [
              0.3333333333333333,
              "#9c179e"
             ],
             [
              0.4444444444444444,
              "#bd3786"
             ],
             [
              0.5555555555555556,
              "#d8576b"
             ],
             [
              0.6666666666666666,
              "#ed7953"
             ],
             [
              0.7777777777777778,
              "#fb9f3a"
             ],
             [
              0.8888888888888888,
              "#fdca26"
             ],
             [
              1,
              "#f0f921"
             ]
            ],
            "type": "heatmapgl"
           }
          ],
          "histogram": [
           {
            "marker": {
             "colorbar": {
              "outlinewidth": 0,
              "ticks": ""
             }
            },
            "type": "histogram"
           }
          ],
          "histogram2d": [
           {
            "colorbar": {
             "outlinewidth": 0,
             "ticks": ""
            },
            "colorscale": [
             [
              0,
              "#0d0887"
             ],
             [
              0.1111111111111111,
              "#46039f"
             ],
             [
              0.2222222222222222,
              "#7201a8"
             ],
             [
              0.3333333333333333,
              "#9c179e"
             ],
             [
              0.4444444444444444,
              "#bd3786"
             ],
             [
              0.5555555555555556,
              "#d8576b"
             ],
             [
              0.6666666666666666,
              "#ed7953"
             ],
             [
              0.7777777777777778,
              "#fb9f3a"
             ],
             [
              0.8888888888888888,
              "#fdca26"
             ],
             [
              1,
              "#f0f921"
             ]
            ],
            "type": "histogram2d"
           }
          ],
          "histogram2dcontour": [
           {
            "colorbar": {
             "outlinewidth": 0,
             "ticks": ""
            },
            "colorscale": [
             [
              0,
              "#0d0887"
             ],
             [
              0.1111111111111111,
              "#46039f"
             ],
             [
              0.2222222222222222,
              "#7201a8"
             ],
             [
              0.3333333333333333,
              "#9c179e"
             ],
             [
              0.4444444444444444,
              "#bd3786"
             ],
             [
              0.5555555555555556,
              "#d8576b"
             ],
             [
              0.6666666666666666,
              "#ed7953"
             ],
             [
              0.7777777777777778,
              "#fb9f3a"
             ],
             [
              0.8888888888888888,
              "#fdca26"
             ],
             [
              1,
              "#f0f921"
             ]
            ],
            "type": "histogram2dcontour"
           }
          ],
          "mesh3d": [
           {
            "colorbar": {
             "outlinewidth": 0,
             "ticks": ""
            },
            "type": "mesh3d"
           }
          ],
          "parcoords": [
           {
            "line": {
             "colorbar": {
              "outlinewidth": 0,
              "ticks": ""
             }
            },
            "type": "parcoords"
           }
          ],
          "scatter": [
           {
            "marker": {
             "colorbar": {
              "outlinewidth": 0,
              "ticks": ""
             }
            },
            "type": "scatter"
           }
          ],
          "scatter3d": [
           {
            "line": {
             "colorbar": {
              "outlinewidth": 0,
              "ticks": ""
             }
            },
            "marker": {
             "colorbar": {
              "outlinewidth": 0,
              "ticks": ""
             }
            },
            "type": "scatter3d"
           }
          ],
          "scattercarpet": [
           {
            "marker": {
             "colorbar": {
              "outlinewidth": 0,
              "ticks": ""
             }
            },
            "type": "scattercarpet"
           }
          ],
          "scattergeo": [
           {
            "marker": {
             "colorbar": {
              "outlinewidth": 0,
              "ticks": ""
             }
            },
            "type": "scattergeo"
           }
          ],
          "scattergl": [
           {
            "marker": {
             "colorbar": {
              "outlinewidth": 0,
              "ticks": ""
             }
            },
            "type": "scattergl"
           }
          ],
          "scattermapbox": [
           {
            "marker": {
             "colorbar": {
              "outlinewidth": 0,
              "ticks": ""
             }
            },
            "type": "scattermapbox"
           }
          ],
          "scatterpolar": [
           {
            "marker": {
             "colorbar": {
              "outlinewidth": 0,
              "ticks": ""
             }
            },
            "type": "scatterpolar"
           }
          ],
          "scatterpolargl": [
           {
            "marker": {
             "colorbar": {
              "outlinewidth": 0,
              "ticks": ""
             }
            },
            "type": "scatterpolargl"
           }
          ],
          "scatterternary": [
           {
            "marker": {
             "colorbar": {
              "outlinewidth": 0,
              "ticks": ""
             }
            },
            "type": "scatterternary"
           }
          ],
          "surface": [
           {
            "colorbar": {
             "outlinewidth": 0,
             "ticks": ""
            },
            "colorscale": [
             [
              0,
              "#0d0887"
             ],
             [
              0.1111111111111111,
              "#46039f"
             ],
             [
              0.2222222222222222,
              "#7201a8"
             ],
             [
              0.3333333333333333,
              "#9c179e"
             ],
             [
              0.4444444444444444,
              "#bd3786"
             ],
             [
              0.5555555555555556,
              "#d8576b"
             ],
             [
              0.6666666666666666,
              "#ed7953"
             ],
             [
              0.7777777777777778,
              "#fb9f3a"
             ],
             [
              0.8888888888888888,
              "#fdca26"
             ],
             [
              1,
              "#f0f921"
             ]
            ],
            "type": "surface"
           }
          ],
          "table": [
           {
            "cells": {
             "fill": {
              "color": "#EBF0F8"
             },
             "line": {
              "color": "white"
             }
            },
            "header": {
             "fill": {
              "color": "#C8D4E3"
             },
             "line": {
              "color": "white"
             }
            },
            "type": "table"
           }
          ]
         },
         "layout": {
          "annotationdefaults": {
           "arrowcolor": "#2a3f5f",
           "arrowhead": 0,
           "arrowwidth": 1
          },
          "colorscale": {
           "diverging": [
            [
             0,
             "#8e0152"
            ],
            [
             0.1,
             "#c51b7d"
            ],
            [
             0.2,
             "#de77ae"
            ],
            [
             0.3,
             "#f1b6da"
            ],
            [
             0.4,
             "#fde0ef"
            ],
            [
             0.5,
             "#f7f7f7"
            ],
            [
             0.6,
             "#e6f5d0"
            ],
            [
             0.7,
             "#b8e186"
            ],
            [
             0.8,
             "#7fbc41"
            ],
            [
             0.9,
             "#4d9221"
            ],
            [
             1,
             "#276419"
            ]
           ],
           "sequential": [
            [
             0,
             "#0d0887"
            ],
            [
             0.1111111111111111,
             "#46039f"
            ],
            [
             0.2222222222222222,
             "#7201a8"
            ],
            [
             0.3333333333333333,
             "#9c179e"
            ],
            [
             0.4444444444444444,
             "#bd3786"
            ],
            [
             0.5555555555555556,
             "#d8576b"
            ],
            [
             0.6666666666666666,
             "#ed7953"
            ],
            [
             0.7777777777777778,
             "#fb9f3a"
            ],
            [
             0.8888888888888888,
             "#fdca26"
            ],
            [
             1,
             "#f0f921"
            ]
           ],
           "sequentialminus": [
            [
             0,
             "#0d0887"
            ],
            [
             0.1111111111111111,
             "#46039f"
            ],
            [
             0.2222222222222222,
             "#7201a8"
            ],
            [
             0.3333333333333333,
             "#9c179e"
            ],
            [
             0.4444444444444444,
             "#bd3786"
            ],
            [
             0.5555555555555556,
             "#d8576b"
            ],
            [
             0.6666666666666666,
             "#ed7953"
            ],
            [
             0.7777777777777778,
             "#fb9f3a"
            ],
            [
             0.8888888888888888,
             "#fdca26"
            ],
            [
             1,
             "#f0f921"
            ]
           ]
          },
          "colorway": [
           "#636efa",
           "#EF553B",
           "#00cc96",
           "#ab63fa",
           "#FFA15A",
           "#19d3f3",
           "#FF6692",
           "#B6E880",
           "#FF97FF",
           "#FECB52"
          ],
          "font": {
           "color": "#2a3f5f"
          },
          "geo": {
           "bgcolor": "white",
           "lakecolor": "white",
           "landcolor": "#E5ECF6",
           "showlakes": true,
           "showland": true,
           "subunitcolor": "white"
          },
          "hoverlabel": {
           "align": "left"
          },
          "hovermode": "closest",
          "mapbox": {
           "style": "light"
          },
          "paper_bgcolor": "white",
          "plot_bgcolor": "#E5ECF6",
          "polar": {
           "angularaxis": {
            "gridcolor": "white",
            "linecolor": "white",
            "ticks": ""
           },
           "bgcolor": "#E5ECF6",
           "radialaxis": {
            "gridcolor": "white",
            "linecolor": "white",
            "ticks": ""
           }
          },
          "scene": {
           "xaxis": {
            "backgroundcolor": "#E5ECF6",
            "gridcolor": "white",
            "gridwidth": 2,
            "linecolor": "white",
            "showbackground": true,
            "ticks": "",
            "zerolinecolor": "white"
           },
           "yaxis": {
            "backgroundcolor": "#E5ECF6",
            "gridcolor": "white",
            "gridwidth": 2,
            "linecolor": "white",
            "showbackground": true,
            "ticks": "",
            "zerolinecolor": "white"
           },
           "zaxis": {
            "backgroundcolor": "#E5ECF6",
            "gridcolor": "white",
            "gridwidth": 2,
            "linecolor": "white",
            "showbackground": true,
            "ticks": "",
            "zerolinecolor": "white"
           }
          },
          "shapedefaults": {
           "line": {
            "color": "#2a3f5f"
           }
          },
          "ternary": {
           "aaxis": {
            "gridcolor": "white",
            "linecolor": "white",
            "ticks": ""
           },
           "baxis": {
            "gridcolor": "white",
            "linecolor": "white",
            "ticks": ""
           },
           "bgcolor": "#E5ECF6",
           "caxis": {
            "gridcolor": "white",
            "linecolor": "white",
            "ticks": ""
           }
          },
          "title": {
           "x": 0.05
          },
          "xaxis": {
           "automargin": true,
           "gridcolor": "white",
           "linecolor": "white",
           "ticks": "",
           "zerolinecolor": "white",
           "zerolinewidth": 2
          },
          "yaxis": {
           "automargin": true,
           "gridcolor": "white",
           "linecolor": "white",
           "ticks": "",
           "zerolinecolor": "white",
           "zerolinewidth": 2
          }
         }
        },
        "title": {
         "text": "Number of Deaths per Month"
        },
        "xaxis": {
         "tickmode": "linear"
        }
       }
      },
      "text/html": [
       "<div>\n",
       "        \n",
       "        \n",
       "            <div id=\"eff58b24-234e-409e-86bf-36e1bb1f8a1b\" class=\"plotly-graph-div\" style=\"height:525px; width:100%;\"></div>\n",
       "            <script type=\"text/javascript\">\n",
       "                require([\"plotly\"], function(Plotly) {\n",
       "                    window.PLOTLYENV=window.PLOTLYENV || {};\n",
       "                    \n",
       "                if (document.getElementById(\"eff58b24-234e-409e-86bf-36e1bb1f8a1b\")) {\n",
       "                    Plotly.newPlot(\n",
       "                        'eff58b24-234e-409e-86bf-36e1bb1f8a1b',\n",
       "                        [{\"type\": \"bar\", \"x\": [12, 9, 11, 1, 2, 8, 10, 3, 4, 7, 6, 5], \"y\": [2725, 2082, 1965, 1868, 1839, 1662, 1605, 1526, 1345, 1339, 1319, 1223]}],\n",
       "                        {\"template\": {\"data\": {\"bar\": [{\"error_x\": {\"color\": \"#2a3f5f\"}, \"error_y\": {\"color\": \"#2a3f5f\"}, \"marker\": {\"line\": {\"color\": \"#E5ECF6\", \"width\": 0.5}}, \"type\": \"bar\"}], \"barpolar\": [{\"marker\": {\"line\": {\"color\": \"#E5ECF6\", \"width\": 0.5}}, \"type\": \"barpolar\"}], \"carpet\": [{\"aaxis\": {\"endlinecolor\": \"#2a3f5f\", \"gridcolor\": \"white\", \"linecolor\": \"white\", \"minorgridcolor\": \"white\", \"startlinecolor\": \"#2a3f5f\"}, \"baxis\": {\"endlinecolor\": \"#2a3f5f\", \"gridcolor\": \"white\", \"linecolor\": \"white\", \"minorgridcolor\": \"white\", \"startlinecolor\": \"#2a3f5f\"}, \"type\": \"carpet\"}], \"choropleth\": [{\"colorbar\": {\"outlinewidth\": 0, \"ticks\": \"\"}, \"type\": \"choropleth\"}], \"contour\": [{\"colorbar\": {\"outlinewidth\": 0, \"ticks\": \"\"}, \"colorscale\": [[0.0, \"#0d0887\"], [0.1111111111111111, \"#46039f\"], [0.2222222222222222, \"#7201a8\"], [0.3333333333333333, \"#9c179e\"], [0.4444444444444444, \"#bd3786\"], [0.5555555555555556, \"#d8576b\"], [0.6666666666666666, \"#ed7953\"], [0.7777777777777778, \"#fb9f3a\"], [0.8888888888888888, \"#fdca26\"], [1.0, \"#f0f921\"]], \"type\": \"contour\"}], \"contourcarpet\": [{\"colorbar\": {\"outlinewidth\": 0, \"ticks\": \"\"}, \"type\": \"contourcarpet\"}], \"heatmap\": [{\"colorbar\": {\"outlinewidth\": 0, \"ticks\": \"\"}, \"colorscale\": [[0.0, \"#0d0887\"], [0.1111111111111111, \"#46039f\"], [0.2222222222222222, \"#7201a8\"], [0.3333333333333333, \"#9c179e\"], [0.4444444444444444, \"#bd3786\"], [0.5555555555555556, \"#d8576b\"], [0.6666666666666666, \"#ed7953\"], [0.7777777777777778, \"#fb9f3a\"], [0.8888888888888888, \"#fdca26\"], [1.0, \"#f0f921\"]], \"type\": \"heatmap\"}], \"heatmapgl\": [{\"colorbar\": {\"outlinewidth\": 0, \"ticks\": \"\"}, \"colorscale\": [[0.0, \"#0d0887\"], [0.1111111111111111, \"#46039f\"], [0.2222222222222222, \"#7201a8\"], [0.3333333333333333, \"#9c179e\"], [0.4444444444444444, \"#bd3786\"], [0.5555555555555556, \"#d8576b\"], [0.6666666666666666, \"#ed7953\"], [0.7777777777777778, \"#fb9f3a\"], [0.8888888888888888, \"#fdca26\"], [1.0, \"#f0f921\"]], \"type\": \"heatmapgl\"}], \"histogram\": [{\"marker\": {\"colorbar\": {\"outlinewidth\": 0, \"ticks\": \"\"}}, \"type\": \"histogram\"}], \"histogram2d\": [{\"colorbar\": {\"outlinewidth\": 0, \"ticks\": \"\"}, \"colorscale\": [[0.0, \"#0d0887\"], [0.1111111111111111, \"#46039f\"], [0.2222222222222222, \"#7201a8\"], [0.3333333333333333, \"#9c179e\"], [0.4444444444444444, \"#bd3786\"], [0.5555555555555556, \"#d8576b\"], [0.6666666666666666, \"#ed7953\"], [0.7777777777777778, \"#fb9f3a\"], [0.8888888888888888, \"#fdca26\"], [1.0, \"#f0f921\"]], \"type\": \"histogram2d\"}], \"histogram2dcontour\": [{\"colorbar\": {\"outlinewidth\": 0, \"ticks\": \"\"}, \"colorscale\": [[0.0, \"#0d0887\"], [0.1111111111111111, \"#46039f\"], [0.2222222222222222, \"#7201a8\"], [0.3333333333333333, \"#9c179e\"], [0.4444444444444444, \"#bd3786\"], [0.5555555555555556, \"#d8576b\"], [0.6666666666666666, \"#ed7953\"], [0.7777777777777778, \"#fb9f3a\"], [0.8888888888888888, \"#fdca26\"], [1.0, \"#f0f921\"]], \"type\": \"histogram2dcontour\"}], \"mesh3d\": [{\"colorbar\": {\"outlinewidth\": 0, \"ticks\": \"\"}, \"type\": \"mesh3d\"}], \"parcoords\": [{\"line\": {\"colorbar\": {\"outlinewidth\": 0, \"ticks\": \"\"}}, \"type\": \"parcoords\"}], \"scatter\": [{\"marker\": {\"colorbar\": {\"outlinewidth\": 0, \"ticks\": \"\"}}, \"type\": \"scatter\"}], \"scatter3d\": [{\"line\": {\"colorbar\": {\"outlinewidth\": 0, \"ticks\": \"\"}}, \"marker\": {\"colorbar\": {\"outlinewidth\": 0, \"ticks\": \"\"}}, \"type\": \"scatter3d\"}], \"scattercarpet\": [{\"marker\": {\"colorbar\": {\"outlinewidth\": 0, \"ticks\": \"\"}}, \"type\": \"scattercarpet\"}], \"scattergeo\": [{\"marker\": {\"colorbar\": {\"outlinewidth\": 0, \"ticks\": \"\"}}, \"type\": \"scattergeo\"}], \"scattergl\": [{\"marker\": {\"colorbar\": {\"outlinewidth\": 0, \"ticks\": \"\"}}, \"type\": \"scattergl\"}], \"scattermapbox\": [{\"marker\": {\"colorbar\": {\"outlinewidth\": 0, \"ticks\": \"\"}}, \"type\": \"scattermapbox\"}], \"scatterpolar\": [{\"marker\": {\"colorbar\": {\"outlinewidth\": 0, \"ticks\": \"\"}}, \"type\": \"scatterpolar\"}], \"scatterpolargl\": [{\"marker\": {\"colorbar\": {\"outlinewidth\": 0, \"ticks\": \"\"}}, \"type\": \"scatterpolargl\"}], \"scatterternary\": [{\"marker\": {\"colorbar\": {\"outlinewidth\": 0, \"ticks\": \"\"}}, \"type\": \"scatterternary\"}], \"surface\": [{\"colorbar\": {\"outlinewidth\": 0, \"ticks\": \"\"}, \"colorscale\": [[0.0, \"#0d0887\"], [0.1111111111111111, \"#46039f\"], [0.2222222222222222, \"#7201a8\"], [0.3333333333333333, \"#9c179e\"], [0.4444444444444444, \"#bd3786\"], [0.5555555555555556, \"#d8576b\"], [0.6666666666666666, \"#ed7953\"], [0.7777777777777778, \"#fb9f3a\"], [0.8888888888888888, \"#fdca26\"], [1.0, \"#f0f921\"]], \"type\": \"surface\"}], \"table\": [{\"cells\": {\"fill\": {\"color\": \"#EBF0F8\"}, \"line\": {\"color\": \"white\"}}, \"header\": {\"fill\": {\"color\": \"#C8D4E3\"}, \"line\": {\"color\": \"white\"}}, \"type\": \"table\"}]}, \"layout\": {\"annotationdefaults\": {\"arrowcolor\": \"#2a3f5f\", \"arrowhead\": 0, \"arrowwidth\": 1}, \"colorscale\": {\"diverging\": [[0, \"#8e0152\"], [0.1, \"#c51b7d\"], [0.2, \"#de77ae\"], [0.3, \"#f1b6da\"], [0.4, \"#fde0ef\"], [0.5, \"#f7f7f7\"], [0.6, \"#e6f5d0\"], [0.7, \"#b8e186\"], [0.8, \"#7fbc41\"], [0.9, \"#4d9221\"], [1, \"#276419\"]], \"sequential\": [[0.0, \"#0d0887\"], [0.1111111111111111, \"#46039f\"], [0.2222222222222222, \"#7201a8\"], [0.3333333333333333, \"#9c179e\"], [0.4444444444444444, \"#bd3786\"], [0.5555555555555556, \"#d8576b\"], [0.6666666666666666, \"#ed7953\"], [0.7777777777777778, \"#fb9f3a\"], [0.8888888888888888, \"#fdca26\"], [1.0, \"#f0f921\"]], \"sequentialminus\": [[0.0, \"#0d0887\"], [0.1111111111111111, \"#46039f\"], [0.2222222222222222, \"#7201a8\"], [0.3333333333333333, \"#9c179e\"], [0.4444444444444444, \"#bd3786\"], [0.5555555555555556, \"#d8576b\"], [0.6666666666666666, \"#ed7953\"], [0.7777777777777778, \"#fb9f3a\"], [0.8888888888888888, \"#fdca26\"], [1.0, \"#f0f921\"]]}, \"colorway\": [\"#636efa\", \"#EF553B\", \"#00cc96\", \"#ab63fa\", \"#FFA15A\", \"#19d3f3\", \"#FF6692\", \"#B6E880\", \"#FF97FF\", \"#FECB52\"], \"font\": {\"color\": \"#2a3f5f\"}, \"geo\": {\"bgcolor\": \"white\", \"lakecolor\": \"white\", \"landcolor\": \"#E5ECF6\", \"showlakes\": true, \"showland\": true, \"subunitcolor\": \"white\"}, \"hoverlabel\": {\"align\": \"left\"}, \"hovermode\": \"closest\", \"mapbox\": {\"style\": \"light\"}, \"paper_bgcolor\": \"white\", \"plot_bgcolor\": \"#E5ECF6\", \"polar\": {\"angularaxis\": {\"gridcolor\": \"white\", \"linecolor\": \"white\", \"ticks\": \"\"}, \"bgcolor\": \"#E5ECF6\", \"radialaxis\": {\"gridcolor\": \"white\", \"linecolor\": \"white\", \"ticks\": \"\"}}, \"scene\": {\"xaxis\": {\"backgroundcolor\": \"#E5ECF6\", \"gridcolor\": \"white\", \"gridwidth\": 2, \"linecolor\": \"white\", \"showbackground\": true, \"ticks\": \"\", \"zerolinecolor\": \"white\"}, \"yaxis\": {\"backgroundcolor\": \"#E5ECF6\", \"gridcolor\": \"white\", \"gridwidth\": 2, \"linecolor\": \"white\", \"showbackground\": true, \"ticks\": \"\", \"zerolinecolor\": \"white\"}, \"zaxis\": {\"backgroundcolor\": \"#E5ECF6\", \"gridcolor\": \"white\", \"gridwidth\": 2, \"linecolor\": \"white\", \"showbackground\": true, \"ticks\": \"\", \"zerolinecolor\": \"white\"}}, \"shapedefaults\": {\"line\": {\"color\": \"#2a3f5f\"}}, \"ternary\": {\"aaxis\": {\"gridcolor\": \"white\", \"linecolor\": \"white\", \"ticks\": \"\"}, \"baxis\": {\"gridcolor\": \"white\", \"linecolor\": \"white\", \"ticks\": \"\"}, \"bgcolor\": \"#E5ECF6\", \"caxis\": {\"gridcolor\": \"white\", \"linecolor\": \"white\", \"ticks\": \"\"}}, \"title\": {\"x\": 0.05}, \"xaxis\": {\"automargin\": true, \"gridcolor\": \"white\", \"linecolor\": \"white\", \"ticks\": \"\", \"zerolinecolor\": \"white\", \"zerolinewidth\": 2}, \"yaxis\": {\"automargin\": true, \"gridcolor\": \"white\", \"linecolor\": \"white\", \"ticks\": \"\", \"zerolinecolor\": \"white\", \"zerolinewidth\": 2}}}, \"title\": {\"text\": \"Number of Deaths per Month\"}, \"xaxis\": {\"tickmode\": \"linear\"}},\n",
       "                        {\"responsive\": true}\n",
       "                    ).then(function(){\n",
       "                            \n",
       "var gd = document.getElementById('eff58b24-234e-409e-86bf-36e1bb1f8a1b');\n",
       "var x = new MutationObserver(function (mutations, observer) {{\n",
       "        var display = window.getComputedStyle(gd).display;\n",
       "        if (!display || display === 'none') {{\n",
       "            console.log([gd, 'removed!']);\n",
       "            Plotly.purge(gd);\n",
       "            observer.disconnect();\n",
       "        }}\n",
       "}});\n",
       "\n",
       "// Listen for the removal of the full notebook cells\n",
       "var notebookContainer = gd.closest('#notebook-container');\n",
       "if (notebookContainer) {{\n",
       "    x.observe(notebookContainer, {childList: true});\n",
       "}}\n",
       "\n",
       "// Listen for the clearing of the current output cell\n",
       "var outputEl = gd.closest('.output');\n",
       "if (outputEl) {{\n",
       "    x.observe(outputEl, {childList: true});\n",
       "}}\n",
       "\n",
       "                        })\n",
       "                };\n",
       "                });\n",
       "            </script>\n",
       "        </div>"
      ]
     },
     "metadata": {},
     "output_type": "display_data"
    }
   ],
   "source": [
    "\n",
    "trace1 = go.Bar(x=df.DOD_m.value_counts().index, y=df.DOD_m.value_counts().values)\n",
    "layout = go.Layout(\n",
    "    title=\"Number of Deaths per Month\",\n",
    "    xaxis = go.layout.XAxis(\n",
    "        tickmode = 'linear'\n",
    "    )\n",
    ")\n",
    "fig = go.Figure(data=[trace1], layout=layout)\n",
    "\n",
    "fig.show()"
   ]
  },
  {
   "cell_type": "markdown",
   "metadata": {},
   "source": [
    "Shaban (8) doesn't have the most number of deaths. Let's look deeper into sex and age groups"
   ]
  },
  {
   "cell_type": "markdown",
   "metadata": {},
   "source": [
    "### By sex groups"
   ]
  },
  {
   "cell_type": "code",
   "execution_count": 83,
   "metadata": {},
   "outputs": [],
   "source": [
    "by_sex = df.groupby([\"DOD_m\"])[\"sex\"].value_counts().unstack().reset_index()"
   ]
  },
  {
   "cell_type": "code",
   "execution_count": 84,
   "metadata": {},
   "outputs": [
    {
     "data": {
      "text/html": [
       "<div>\n",
       "<style scoped>\n",
       "    .dataframe tbody tr th:only-of-type {\n",
       "        vertical-align: middle;\n",
       "    }\n",
       "\n",
       "    .dataframe tbody tr th {\n",
       "        vertical-align: top;\n",
       "    }\n",
       "\n",
       "    .dataframe thead th {\n",
       "        text-align: right;\n",
       "    }\n",
       "</style>\n",
       "<table border=\"1\" class=\"dataframe\">\n",
       "  <thead>\n",
       "    <tr style=\"text-align: right;\">\n",
       "      <th>sex</th>\n",
       "      <th>DOD_m</th>\n",
       "      <th>أنثى</th>\n",
       "      <th>ذكر</th>\n",
       "    </tr>\n",
       "  </thead>\n",
       "  <tbody>\n",
       "    <tr>\n",
       "      <th>0</th>\n",
       "      <td>1</td>\n",
       "      <td>725</td>\n",
       "      <td>1143</td>\n",
       "    </tr>\n",
       "    <tr>\n",
       "      <th>1</th>\n",
       "      <td>2</td>\n",
       "      <td>719</td>\n",
       "      <td>1120</td>\n",
       "    </tr>\n",
       "    <tr>\n",
       "      <th>2</th>\n",
       "      <td>3</td>\n",
       "      <td>582</td>\n",
       "      <td>944</td>\n",
       "    </tr>\n",
       "    <tr>\n",
       "      <th>3</th>\n",
       "      <td>4</td>\n",
       "      <td>532</td>\n",
       "      <td>813</td>\n",
       "    </tr>\n",
       "    <tr>\n",
       "      <th>4</th>\n",
       "      <td>5</td>\n",
       "      <td>495</td>\n",
       "      <td>728</td>\n",
       "    </tr>\n",
       "  </tbody>\n",
       "</table>\n",
       "</div>"
      ],
      "text/plain": [
       "sex  DOD_m  أنثى   ذكر\n",
       "0        1   725  1143\n",
       "1        2   719  1120\n",
       "2        3   582   944\n",
       "3        4   532   813\n",
       "4        5   495   728"
      ]
     },
     "execution_count": 84,
     "metadata": {},
     "output_type": "execute_result"
    }
   ],
   "source": [
    "by_sex.head()"
   ]
  },
  {
   "cell_type": "code",
   "execution_count": 85,
   "metadata": {},
   "outputs": [
    {
     "data": {
      "application/vnd.plotly.v1+json": {
       "config": {
        "plotlyServerURL": "https://plot.ly"
       },
       "data": [
        {
         "marker": {
          "color": "indianred"
         },
         "name": "Males",
         "type": "bar",
         "x": [
          1,
          2,
          3,
          4,
          5,
          6,
          7,
          8,
          9,
          10,
          11,
          12
         ],
         "y": [
          1143,
          1120,
          944,
          813,
          728,
          797,
          799,
          1006,
          1218,
          998,
          1197,
          1681
         ]
        },
        {
         "marker": {
          "color": "lightsalmon"
         },
         "name": "Females",
         "type": "bar",
         "x": [
          1,
          2,
          3,
          4,
          5,
          6,
          7,
          8,
          9,
          10,
          11,
          12
         ],
         "y": [
          725,
          719,
          582,
          532,
          495,
          522,
          540,
          656,
          864,
          607,
          768,
          1044
         ]
        }
       ],
       "layout": {
        "barmode": "group",
        "template": {
         "data": {
          "bar": [
           {
            "error_x": {
             "color": "#2a3f5f"
            },
            "error_y": {
             "color": "#2a3f5f"
            },
            "marker": {
             "line": {
              "color": "#E5ECF6",
              "width": 0.5
             }
            },
            "type": "bar"
           }
          ],
          "barpolar": [
           {
            "marker": {
             "line": {
              "color": "#E5ECF6",
              "width": 0.5
             }
            },
            "type": "barpolar"
           }
          ],
          "carpet": [
           {
            "aaxis": {
             "endlinecolor": "#2a3f5f",
             "gridcolor": "white",
             "linecolor": "white",
             "minorgridcolor": "white",
             "startlinecolor": "#2a3f5f"
            },
            "baxis": {
             "endlinecolor": "#2a3f5f",
             "gridcolor": "white",
             "linecolor": "white",
             "minorgridcolor": "white",
             "startlinecolor": "#2a3f5f"
            },
            "type": "carpet"
           }
          ],
          "choropleth": [
           {
            "colorbar": {
             "outlinewidth": 0,
             "ticks": ""
            },
            "type": "choropleth"
           }
          ],
          "contour": [
           {
            "colorbar": {
             "outlinewidth": 0,
             "ticks": ""
            },
            "colorscale": [
             [
              0,
              "#0d0887"
             ],
             [
              0.1111111111111111,
              "#46039f"
             ],
             [
              0.2222222222222222,
              "#7201a8"
             ],
             [
              0.3333333333333333,
              "#9c179e"
             ],
             [
              0.4444444444444444,
              "#bd3786"
             ],
             [
              0.5555555555555556,
              "#d8576b"
             ],
             [
              0.6666666666666666,
              "#ed7953"
             ],
             [
              0.7777777777777778,
              "#fb9f3a"
             ],
             [
              0.8888888888888888,
              "#fdca26"
             ],
             [
              1,
              "#f0f921"
             ]
            ],
            "type": "contour"
           }
          ],
          "contourcarpet": [
           {
            "colorbar": {
             "outlinewidth": 0,
             "ticks": ""
            },
            "type": "contourcarpet"
           }
          ],
          "heatmap": [
           {
            "colorbar": {
             "outlinewidth": 0,
             "ticks": ""
            },
            "colorscale": [
             [
              0,
              "#0d0887"
             ],
             [
              0.1111111111111111,
              "#46039f"
             ],
             [
              0.2222222222222222,
              "#7201a8"
             ],
             [
              0.3333333333333333,
              "#9c179e"
             ],
             [
              0.4444444444444444,
              "#bd3786"
             ],
             [
              0.5555555555555556,
              "#d8576b"
             ],
             [
              0.6666666666666666,
              "#ed7953"
             ],
             [
              0.7777777777777778,
              "#fb9f3a"
             ],
             [
              0.8888888888888888,
              "#fdca26"
             ],
             [
              1,
              "#f0f921"
             ]
            ],
            "type": "heatmap"
           }
          ],
          "heatmapgl": [
           {
            "colorbar": {
             "outlinewidth": 0,
             "ticks": ""
            },
            "colorscale": [
             [
              0,
              "#0d0887"
             ],
             [
              0.1111111111111111,
              "#46039f"
             ],
             [
              0.2222222222222222,
              "#7201a8"
             ],
             [
              0.3333333333333333,
              "#9c179e"
             ],
             [
              0.4444444444444444,
              "#bd3786"
             ],
             [
              0.5555555555555556,
              "#d8576b"
             ],
             [
              0.6666666666666666,
              "#ed7953"
             ],
             [
              0.7777777777777778,
              "#fb9f3a"
             ],
             [
              0.8888888888888888,
              "#fdca26"
             ],
             [
              1,
              "#f0f921"
             ]
            ],
            "type": "heatmapgl"
           }
          ],
          "histogram": [
           {
            "marker": {
             "colorbar": {
              "outlinewidth": 0,
              "ticks": ""
             }
            },
            "type": "histogram"
           }
          ],
          "histogram2d": [
           {
            "colorbar": {
             "outlinewidth": 0,
             "ticks": ""
            },
            "colorscale": [
             [
              0,
              "#0d0887"
             ],
             [
              0.1111111111111111,
              "#46039f"
             ],
             [
              0.2222222222222222,
              "#7201a8"
             ],
             [
              0.3333333333333333,
              "#9c179e"
             ],
             [
              0.4444444444444444,
              "#bd3786"
             ],
             [
              0.5555555555555556,
              "#d8576b"
             ],
             [
              0.6666666666666666,
              "#ed7953"
             ],
             [
              0.7777777777777778,
              "#fb9f3a"
             ],
             [
              0.8888888888888888,
              "#fdca26"
             ],
             [
              1,
              "#f0f921"
             ]
            ],
            "type": "histogram2d"
           }
          ],
          "histogram2dcontour": [
           {
            "colorbar": {
             "outlinewidth": 0,
             "ticks": ""
            },
            "colorscale": [
             [
              0,
              "#0d0887"
             ],
             [
              0.1111111111111111,
              "#46039f"
             ],
             [
              0.2222222222222222,
              "#7201a8"
             ],
             [
              0.3333333333333333,
              "#9c179e"
             ],
             [
              0.4444444444444444,
              "#bd3786"
             ],
             [
              0.5555555555555556,
              "#d8576b"
             ],
             [
              0.6666666666666666,
              "#ed7953"
             ],
             [
              0.7777777777777778,
              "#fb9f3a"
             ],
             [
              0.8888888888888888,
              "#fdca26"
             ],
             [
              1,
              "#f0f921"
             ]
            ],
            "type": "histogram2dcontour"
           }
          ],
          "mesh3d": [
           {
            "colorbar": {
             "outlinewidth": 0,
             "ticks": ""
            },
            "type": "mesh3d"
           }
          ],
          "parcoords": [
           {
            "line": {
             "colorbar": {
              "outlinewidth": 0,
              "ticks": ""
             }
            },
            "type": "parcoords"
           }
          ],
          "scatter": [
           {
            "marker": {
             "colorbar": {
              "outlinewidth": 0,
              "ticks": ""
             }
            },
            "type": "scatter"
           }
          ],
          "scatter3d": [
           {
            "line": {
             "colorbar": {
              "outlinewidth": 0,
              "ticks": ""
             }
            },
            "marker": {
             "colorbar": {
              "outlinewidth": 0,
              "ticks": ""
             }
            },
            "type": "scatter3d"
           }
          ],
          "scattercarpet": [
           {
            "marker": {
             "colorbar": {
              "outlinewidth": 0,
              "ticks": ""
             }
            },
            "type": "scattercarpet"
           }
          ],
          "scattergeo": [
           {
            "marker": {
             "colorbar": {
              "outlinewidth": 0,
              "ticks": ""
             }
            },
            "type": "scattergeo"
           }
          ],
          "scattergl": [
           {
            "marker": {
             "colorbar": {
              "outlinewidth": 0,
              "ticks": ""
             }
            },
            "type": "scattergl"
           }
          ],
          "scattermapbox": [
           {
            "marker": {
             "colorbar": {
              "outlinewidth": 0,
              "ticks": ""
             }
            },
            "type": "scattermapbox"
           }
          ],
          "scatterpolar": [
           {
            "marker": {
             "colorbar": {
              "outlinewidth": 0,
              "ticks": ""
             }
            },
            "type": "scatterpolar"
           }
          ],
          "scatterpolargl": [
           {
            "marker": {
             "colorbar": {
              "outlinewidth": 0,
              "ticks": ""
             }
            },
            "type": "scatterpolargl"
           }
          ],
          "scatterternary": [
           {
            "marker": {
             "colorbar": {
              "outlinewidth": 0,
              "ticks": ""
             }
            },
            "type": "scatterternary"
           }
          ],
          "surface": [
           {
            "colorbar": {
             "outlinewidth": 0,
             "ticks": ""
            },
            "colorscale": [
             [
              0,
              "#0d0887"
             ],
             [
              0.1111111111111111,
              "#46039f"
             ],
             [
              0.2222222222222222,
              "#7201a8"
             ],
             [
              0.3333333333333333,
              "#9c179e"
             ],
             [
              0.4444444444444444,
              "#bd3786"
             ],
             [
              0.5555555555555556,
              "#d8576b"
             ],
             [
              0.6666666666666666,
              "#ed7953"
             ],
             [
              0.7777777777777778,
              "#fb9f3a"
             ],
             [
              0.8888888888888888,
              "#fdca26"
             ],
             [
              1,
              "#f0f921"
             ]
            ],
            "type": "surface"
           }
          ],
          "table": [
           {
            "cells": {
             "fill": {
              "color": "#EBF0F8"
             },
             "line": {
              "color": "white"
             }
            },
            "header": {
             "fill": {
              "color": "#C8D4E3"
             },
             "line": {
              "color": "white"
             }
            },
            "type": "table"
           }
          ]
         },
         "layout": {
          "annotationdefaults": {
           "arrowcolor": "#2a3f5f",
           "arrowhead": 0,
           "arrowwidth": 1
          },
          "colorscale": {
           "diverging": [
            [
             0,
             "#8e0152"
            ],
            [
             0.1,
             "#c51b7d"
            ],
            [
             0.2,
             "#de77ae"
            ],
            [
             0.3,
             "#f1b6da"
            ],
            [
             0.4,
             "#fde0ef"
            ],
            [
             0.5,
             "#f7f7f7"
            ],
            [
             0.6,
             "#e6f5d0"
            ],
            [
             0.7,
             "#b8e186"
            ],
            [
             0.8,
             "#7fbc41"
            ],
            [
             0.9,
             "#4d9221"
            ],
            [
             1,
             "#276419"
            ]
           ],
           "sequential": [
            [
             0,
             "#0d0887"
            ],
            [
             0.1111111111111111,
             "#46039f"
            ],
            [
             0.2222222222222222,
             "#7201a8"
            ],
            [
             0.3333333333333333,
             "#9c179e"
            ],
            [
             0.4444444444444444,
             "#bd3786"
            ],
            [
             0.5555555555555556,
             "#d8576b"
            ],
            [
             0.6666666666666666,
             "#ed7953"
            ],
            [
             0.7777777777777778,
             "#fb9f3a"
            ],
            [
             0.8888888888888888,
             "#fdca26"
            ],
            [
             1,
             "#f0f921"
            ]
           ],
           "sequentialminus": [
            [
             0,
             "#0d0887"
            ],
            [
             0.1111111111111111,
             "#46039f"
            ],
            [
             0.2222222222222222,
             "#7201a8"
            ],
            [
             0.3333333333333333,
             "#9c179e"
            ],
            [
             0.4444444444444444,
             "#bd3786"
            ],
            [
             0.5555555555555556,
             "#d8576b"
            ],
            [
             0.6666666666666666,
             "#ed7953"
            ],
            [
             0.7777777777777778,
             "#fb9f3a"
            ],
            [
             0.8888888888888888,
             "#fdca26"
            ],
            [
             1,
             "#f0f921"
            ]
           ]
          },
          "colorway": [
           "#636efa",
           "#EF553B",
           "#00cc96",
           "#ab63fa",
           "#FFA15A",
           "#19d3f3",
           "#FF6692",
           "#B6E880",
           "#FF97FF",
           "#FECB52"
          ],
          "font": {
           "color": "#2a3f5f"
          },
          "geo": {
           "bgcolor": "white",
           "lakecolor": "white",
           "landcolor": "#E5ECF6",
           "showlakes": true,
           "showland": true,
           "subunitcolor": "white"
          },
          "hoverlabel": {
           "align": "left"
          },
          "hovermode": "closest",
          "mapbox": {
           "style": "light"
          },
          "paper_bgcolor": "white",
          "plot_bgcolor": "#E5ECF6",
          "polar": {
           "angularaxis": {
            "gridcolor": "white",
            "linecolor": "white",
            "ticks": ""
           },
           "bgcolor": "#E5ECF6",
           "radialaxis": {
            "gridcolor": "white",
            "linecolor": "white",
            "ticks": ""
           }
          },
          "scene": {
           "xaxis": {
            "backgroundcolor": "#E5ECF6",
            "gridcolor": "white",
            "gridwidth": 2,
            "linecolor": "white",
            "showbackground": true,
            "ticks": "",
            "zerolinecolor": "white"
           },
           "yaxis": {
            "backgroundcolor": "#E5ECF6",
            "gridcolor": "white",
            "gridwidth": 2,
            "linecolor": "white",
            "showbackground": true,
            "ticks": "",
            "zerolinecolor": "white"
           },
           "zaxis": {
            "backgroundcolor": "#E5ECF6",
            "gridcolor": "white",
            "gridwidth": 2,
            "linecolor": "white",
            "showbackground": true,
            "ticks": "",
            "zerolinecolor": "white"
           }
          },
          "shapedefaults": {
           "line": {
            "color": "#2a3f5f"
           }
          },
          "ternary": {
           "aaxis": {
            "gridcolor": "white",
            "linecolor": "white",
            "ticks": ""
           },
           "baxis": {
            "gridcolor": "white",
            "linecolor": "white",
            "ticks": ""
           },
           "bgcolor": "#E5ECF6",
           "caxis": {
            "gridcolor": "white",
            "linecolor": "white",
            "ticks": ""
           }
          },
          "title": {
           "x": 0.05
          },
          "xaxis": {
           "automargin": true,
           "gridcolor": "white",
           "linecolor": "white",
           "ticks": "",
           "zerolinecolor": "white",
           "zerolinewidth": 2
          },
          "yaxis": {
           "automargin": true,
           "gridcolor": "white",
           "linecolor": "white",
           "ticks": "",
           "zerolinecolor": "white",
           "zerolinewidth": 2
          }
         }
        },
        "title": {
         "text": "Number of Deaths by Sex per Month"
        },
        "xaxis": {
         "tickmode": "linear"
        }
       }
      },
      "text/html": [
       "<div>\n",
       "        \n",
       "        \n",
       "            <div id=\"480e0540-8ac4-4ac7-8b26-42ba67fa4343\" class=\"plotly-graph-div\" style=\"height:525px; width:100%;\"></div>\n",
       "            <script type=\"text/javascript\">\n",
       "                require([\"plotly\"], function(Plotly) {\n",
       "                    window.PLOTLYENV=window.PLOTLYENV || {};\n",
       "                    \n",
       "                if (document.getElementById(\"480e0540-8ac4-4ac7-8b26-42ba67fa4343\")) {\n",
       "                    Plotly.newPlot(\n",
       "                        '480e0540-8ac4-4ac7-8b26-42ba67fa4343',\n",
       "                        [{\"marker\": {\"color\": \"indianred\"}, \"name\": \"Males\", \"type\": \"bar\", \"x\": [1, 2, 3, 4, 5, 6, 7, 8, 9, 10, 11, 12], \"y\": [1143, 1120, 944, 813, 728, 797, 799, 1006, 1218, 998, 1197, 1681]}, {\"marker\": {\"color\": \"lightsalmon\"}, \"name\": \"Females\", \"type\": \"bar\", \"x\": [1, 2, 3, 4, 5, 6, 7, 8, 9, 10, 11, 12], \"y\": [725, 719, 582, 532, 495, 522, 540, 656, 864, 607, 768, 1044]}],\n",
       "                        {\"barmode\": \"group\", \"template\": {\"data\": {\"bar\": [{\"error_x\": {\"color\": \"#2a3f5f\"}, \"error_y\": {\"color\": \"#2a3f5f\"}, \"marker\": {\"line\": {\"color\": \"#E5ECF6\", \"width\": 0.5}}, \"type\": \"bar\"}], \"barpolar\": [{\"marker\": {\"line\": {\"color\": \"#E5ECF6\", \"width\": 0.5}}, \"type\": \"barpolar\"}], \"carpet\": [{\"aaxis\": {\"endlinecolor\": \"#2a3f5f\", \"gridcolor\": \"white\", \"linecolor\": \"white\", \"minorgridcolor\": \"white\", \"startlinecolor\": \"#2a3f5f\"}, \"baxis\": {\"endlinecolor\": \"#2a3f5f\", \"gridcolor\": \"white\", \"linecolor\": \"white\", \"minorgridcolor\": \"white\", \"startlinecolor\": \"#2a3f5f\"}, \"type\": \"carpet\"}], \"choropleth\": [{\"colorbar\": {\"outlinewidth\": 0, \"ticks\": \"\"}, \"type\": \"choropleth\"}], \"contour\": [{\"colorbar\": {\"outlinewidth\": 0, \"ticks\": \"\"}, \"colorscale\": [[0.0, \"#0d0887\"], [0.1111111111111111, \"#46039f\"], [0.2222222222222222, \"#7201a8\"], [0.3333333333333333, \"#9c179e\"], [0.4444444444444444, \"#bd3786\"], [0.5555555555555556, \"#d8576b\"], [0.6666666666666666, \"#ed7953\"], [0.7777777777777778, \"#fb9f3a\"], [0.8888888888888888, \"#fdca26\"], [1.0, \"#f0f921\"]], \"type\": \"contour\"}], \"contourcarpet\": [{\"colorbar\": {\"outlinewidth\": 0, \"ticks\": \"\"}, \"type\": \"contourcarpet\"}], \"heatmap\": [{\"colorbar\": {\"outlinewidth\": 0, \"ticks\": \"\"}, \"colorscale\": [[0.0, \"#0d0887\"], [0.1111111111111111, \"#46039f\"], [0.2222222222222222, \"#7201a8\"], [0.3333333333333333, \"#9c179e\"], [0.4444444444444444, \"#bd3786\"], [0.5555555555555556, \"#d8576b\"], [0.6666666666666666, \"#ed7953\"], [0.7777777777777778, \"#fb9f3a\"], [0.8888888888888888, \"#fdca26\"], [1.0, \"#f0f921\"]], \"type\": \"heatmap\"}], \"heatmapgl\": [{\"colorbar\": {\"outlinewidth\": 0, \"ticks\": \"\"}, \"colorscale\": [[0.0, \"#0d0887\"], [0.1111111111111111, \"#46039f\"], [0.2222222222222222, \"#7201a8\"], [0.3333333333333333, \"#9c179e\"], [0.4444444444444444, \"#bd3786\"], [0.5555555555555556, \"#d8576b\"], [0.6666666666666666, \"#ed7953\"], [0.7777777777777778, \"#fb9f3a\"], [0.8888888888888888, \"#fdca26\"], [1.0, \"#f0f921\"]], \"type\": \"heatmapgl\"}], \"histogram\": [{\"marker\": {\"colorbar\": {\"outlinewidth\": 0, \"ticks\": \"\"}}, \"type\": \"histogram\"}], \"histogram2d\": [{\"colorbar\": {\"outlinewidth\": 0, \"ticks\": \"\"}, \"colorscale\": [[0.0, \"#0d0887\"], [0.1111111111111111, \"#46039f\"], [0.2222222222222222, \"#7201a8\"], [0.3333333333333333, \"#9c179e\"], [0.4444444444444444, \"#bd3786\"], [0.5555555555555556, \"#d8576b\"], [0.6666666666666666, \"#ed7953\"], [0.7777777777777778, \"#fb9f3a\"], [0.8888888888888888, \"#fdca26\"], [1.0, \"#f0f921\"]], \"type\": \"histogram2d\"}], \"histogram2dcontour\": [{\"colorbar\": {\"outlinewidth\": 0, \"ticks\": \"\"}, \"colorscale\": [[0.0, \"#0d0887\"], [0.1111111111111111, \"#46039f\"], [0.2222222222222222, \"#7201a8\"], [0.3333333333333333, \"#9c179e\"], [0.4444444444444444, \"#bd3786\"], [0.5555555555555556, \"#d8576b\"], [0.6666666666666666, \"#ed7953\"], [0.7777777777777778, \"#fb9f3a\"], [0.8888888888888888, \"#fdca26\"], [1.0, \"#f0f921\"]], \"type\": \"histogram2dcontour\"}], \"mesh3d\": [{\"colorbar\": {\"outlinewidth\": 0, \"ticks\": \"\"}, \"type\": \"mesh3d\"}], \"parcoords\": [{\"line\": {\"colorbar\": {\"outlinewidth\": 0, \"ticks\": \"\"}}, \"type\": \"parcoords\"}], \"scatter\": [{\"marker\": {\"colorbar\": {\"outlinewidth\": 0, \"ticks\": \"\"}}, \"type\": \"scatter\"}], \"scatter3d\": [{\"line\": {\"colorbar\": {\"outlinewidth\": 0, \"ticks\": \"\"}}, \"marker\": {\"colorbar\": {\"outlinewidth\": 0, \"ticks\": \"\"}}, \"type\": \"scatter3d\"}], \"scattercarpet\": [{\"marker\": {\"colorbar\": {\"outlinewidth\": 0, \"ticks\": \"\"}}, \"type\": \"scattercarpet\"}], \"scattergeo\": [{\"marker\": {\"colorbar\": {\"outlinewidth\": 0, \"ticks\": \"\"}}, \"type\": \"scattergeo\"}], \"scattergl\": [{\"marker\": {\"colorbar\": {\"outlinewidth\": 0, \"ticks\": \"\"}}, \"type\": \"scattergl\"}], \"scattermapbox\": [{\"marker\": {\"colorbar\": {\"outlinewidth\": 0, \"ticks\": \"\"}}, \"type\": \"scattermapbox\"}], \"scatterpolar\": [{\"marker\": {\"colorbar\": {\"outlinewidth\": 0, \"ticks\": \"\"}}, \"type\": \"scatterpolar\"}], \"scatterpolargl\": [{\"marker\": {\"colorbar\": {\"outlinewidth\": 0, \"ticks\": \"\"}}, \"type\": \"scatterpolargl\"}], \"scatterternary\": [{\"marker\": {\"colorbar\": {\"outlinewidth\": 0, \"ticks\": \"\"}}, \"type\": \"scatterternary\"}], \"surface\": [{\"colorbar\": {\"outlinewidth\": 0, \"ticks\": \"\"}, \"colorscale\": [[0.0, \"#0d0887\"], [0.1111111111111111, \"#46039f\"], [0.2222222222222222, \"#7201a8\"], [0.3333333333333333, \"#9c179e\"], [0.4444444444444444, \"#bd3786\"], [0.5555555555555556, \"#d8576b\"], [0.6666666666666666, \"#ed7953\"], [0.7777777777777778, \"#fb9f3a\"], [0.8888888888888888, \"#fdca26\"], [1.0, \"#f0f921\"]], \"type\": \"surface\"}], \"table\": [{\"cells\": {\"fill\": {\"color\": \"#EBF0F8\"}, \"line\": {\"color\": \"white\"}}, \"header\": {\"fill\": {\"color\": \"#C8D4E3\"}, \"line\": {\"color\": \"white\"}}, \"type\": \"table\"}]}, \"layout\": {\"annotationdefaults\": {\"arrowcolor\": \"#2a3f5f\", \"arrowhead\": 0, \"arrowwidth\": 1}, \"colorscale\": {\"diverging\": [[0, \"#8e0152\"], [0.1, \"#c51b7d\"], [0.2, \"#de77ae\"], [0.3, \"#f1b6da\"], [0.4, \"#fde0ef\"], [0.5, \"#f7f7f7\"], [0.6, \"#e6f5d0\"], [0.7, \"#b8e186\"], [0.8, \"#7fbc41\"], [0.9, \"#4d9221\"], [1, \"#276419\"]], \"sequential\": [[0.0, \"#0d0887\"], [0.1111111111111111, \"#46039f\"], [0.2222222222222222, \"#7201a8\"], [0.3333333333333333, \"#9c179e\"], [0.4444444444444444, \"#bd3786\"], [0.5555555555555556, \"#d8576b\"], [0.6666666666666666, \"#ed7953\"], [0.7777777777777778, \"#fb9f3a\"], [0.8888888888888888, \"#fdca26\"], [1.0, \"#f0f921\"]], \"sequentialminus\": [[0.0, \"#0d0887\"], [0.1111111111111111, \"#46039f\"], [0.2222222222222222, \"#7201a8\"], [0.3333333333333333, \"#9c179e\"], [0.4444444444444444, \"#bd3786\"], [0.5555555555555556, \"#d8576b\"], [0.6666666666666666, \"#ed7953\"], [0.7777777777777778, \"#fb9f3a\"], [0.8888888888888888, \"#fdca26\"], [1.0, \"#f0f921\"]]}, \"colorway\": [\"#636efa\", \"#EF553B\", \"#00cc96\", \"#ab63fa\", \"#FFA15A\", \"#19d3f3\", \"#FF6692\", \"#B6E880\", \"#FF97FF\", \"#FECB52\"], \"font\": {\"color\": \"#2a3f5f\"}, \"geo\": {\"bgcolor\": \"white\", \"lakecolor\": \"white\", \"landcolor\": \"#E5ECF6\", \"showlakes\": true, \"showland\": true, \"subunitcolor\": \"white\"}, \"hoverlabel\": {\"align\": \"left\"}, \"hovermode\": \"closest\", \"mapbox\": {\"style\": \"light\"}, \"paper_bgcolor\": \"white\", \"plot_bgcolor\": \"#E5ECF6\", \"polar\": {\"angularaxis\": {\"gridcolor\": \"white\", \"linecolor\": \"white\", \"ticks\": \"\"}, \"bgcolor\": \"#E5ECF6\", \"radialaxis\": {\"gridcolor\": \"white\", \"linecolor\": \"white\", \"ticks\": \"\"}}, \"scene\": {\"xaxis\": {\"backgroundcolor\": \"#E5ECF6\", \"gridcolor\": \"white\", \"gridwidth\": 2, \"linecolor\": \"white\", \"showbackground\": true, \"ticks\": \"\", \"zerolinecolor\": \"white\"}, \"yaxis\": {\"backgroundcolor\": \"#E5ECF6\", \"gridcolor\": \"white\", \"gridwidth\": 2, \"linecolor\": \"white\", \"showbackground\": true, \"ticks\": \"\", \"zerolinecolor\": \"white\"}, \"zaxis\": {\"backgroundcolor\": \"#E5ECF6\", \"gridcolor\": \"white\", \"gridwidth\": 2, \"linecolor\": \"white\", \"showbackground\": true, \"ticks\": \"\", \"zerolinecolor\": \"white\"}}, \"shapedefaults\": {\"line\": {\"color\": \"#2a3f5f\"}}, \"ternary\": {\"aaxis\": {\"gridcolor\": \"white\", \"linecolor\": \"white\", \"ticks\": \"\"}, \"baxis\": {\"gridcolor\": \"white\", \"linecolor\": \"white\", \"ticks\": \"\"}, \"bgcolor\": \"#E5ECF6\", \"caxis\": {\"gridcolor\": \"white\", \"linecolor\": \"white\", \"ticks\": \"\"}}, \"title\": {\"x\": 0.05}, \"xaxis\": {\"automargin\": true, \"gridcolor\": \"white\", \"linecolor\": \"white\", \"ticks\": \"\", \"zerolinecolor\": \"white\", \"zerolinewidth\": 2}, \"yaxis\": {\"automargin\": true, \"gridcolor\": \"white\", \"linecolor\": \"white\", \"ticks\": \"\", \"zerolinecolor\": \"white\", \"zerolinewidth\": 2}}}, \"title\": {\"text\": \"Number of Deaths by Sex per Month\"}, \"xaxis\": {\"tickmode\": \"linear\"}},\n",
       "                        {\"responsive\": true}\n",
       "                    ).then(function(){\n",
       "                            \n",
       "var gd = document.getElementById('480e0540-8ac4-4ac7-8b26-42ba67fa4343');\n",
       "var x = new MutationObserver(function (mutations, observer) {{\n",
       "        var display = window.getComputedStyle(gd).display;\n",
       "        if (!display || display === 'none') {{\n",
       "            console.log([gd, 'removed!']);\n",
       "            Plotly.purge(gd);\n",
       "            observer.disconnect();\n",
       "        }}\n",
       "}});\n",
       "\n",
       "// Listen for the removal of the full notebook cells\n",
       "var notebookContainer = gd.closest('#notebook-container');\n",
       "if (notebookContainer) {{\n",
       "    x.observe(notebookContainer, {childList: true});\n",
       "}}\n",
       "\n",
       "// Listen for the clearing of the current output cell\n",
       "var outputEl = gd.closest('.output');\n",
       "if (outputEl) {{\n",
       "    x.observe(outputEl, {childList: true});\n",
       "}}\n",
       "\n",
       "                        })\n",
       "                };\n",
       "                });\n",
       "            </script>\n",
       "        </div>"
      ]
     },
     "metadata": {},
     "output_type": "display_data"
    }
   ],
   "source": [
    "\n",
    "\n",
    "trace1 = go.Bar(\n",
    "    x=by_sex[\"DOD_m\"].values,\n",
    "    y=by_sex[\"ذكر\"].values,\n",
    "    name='Males',\n",
    "    marker_color='indianred'\n",
    ")\n",
    "trace2  = go.Bar(\n",
    "    x=by_sex[\"DOD_m\"].values,\n",
    "    y=by_sex[\"أنثى\"].values,\n",
    "    name='Females',\n",
    "    marker_color='lightsalmon'\n",
    ")\n",
    "data = [trace1, trace2]\n",
    "layout = go.Layout(\n",
    "    title= \"Number of Deaths by Sex per Month\",\n",
    "    xaxis = go.layout.XAxis(\n",
    "        tickmode = 'linear'\n",
    "    ), barmode='group' )\n",
    "    \n",
    "fig = go.Figure(data=data, layout=layout)\n",
    "# Here we modify the tickangle of the xaxis, resulting in rotated labels.\n",
    "fig.show()"
   ]
  },
  {
   "cell_type": "markdown",
   "metadata": {},
   "source": [
    "The trend is the same among all months, more deaths in males tho\n",
    "\n",
    "----"
   ]
  },
  {
   "cell_type": "markdown",
   "metadata": {},
   "source": [
    "### Divide by age groups\n",
    "since the saying the Shaban has the most deaths comes from old people, it make sence that we look at the deaths in different groups. \n",
    "We will assume that some death as certain ages doesn't leave impact as much as others"
   ]
  },
  {
   "cell_type": "code",
   "execution_count": 89,
   "metadata": {},
   "outputs": [],
   "source": [
    "# we will divide age groups from 1-20 as young, 21-50 as mid-age, and 51-100 as senior\n",
    "\n",
    "df[\"age_groups\"] = pd.cut(df.age,[0,20,50,100], labels=[\"young\", \"mid-age\", \"senior\"])"
   ]
  },
  {
   "cell_type": "code",
   "execution_count": 114,
   "metadata": {},
   "outputs": [],
   "source": [
    "def highlight_max(s):\n",
    "    '''\n",
    "    highlight the maximum in a Series yellow.\n",
    "    '''\n",
    "    is_max = s == s.max()\n",
    "    return ['background-color: yellow' if v else '' for v in is_max]"
   ]
  },
  {
   "cell_type": "code",
   "execution_count": 113,
   "metadata": {},
   "outputs": [
    {
     "data": {
      "text/html": [
       "<style  type=\"text/css\" >\n",
       "    #T_2b1d88da_a93d_11e9_b044_a0999b1b23a7row0_col1 {\n",
       "            background-color:  #4daa4d;\n",
       "            : ;\n",
       "        }    #T_2b1d88da_a93d_11e9_b044_a0999b1b23a7row0_col2 {\n",
       "            background-color:  #008000;\n",
       "            background-color:  yellow;\n",
       "        }    #T_2b1d88da_a93d_11e9_b044_a0999b1b23a7row0_col3 {\n",
       "            background-color:  #138a13;\n",
       "            : ;\n",
       "        }    #T_2b1d88da_a93d_11e9_b044_a0999b1b23a7row0_col4 {\n",
       "            background-color:  #008000;\n",
       "            background-color:  yellow;\n",
       "        }    #T_2b1d88da_a93d_11e9_b044_a0999b1b23a7row0_col5 {\n",
       "            background-color:  #008000;\n",
       "            background-color:  yellow;\n",
       "        }    #T_2b1d88da_a93d_11e9_b044_a0999b1b23a7row0_col6 {\n",
       "            background-color:  #0e880e;\n",
       "            : ;\n",
       "        }    #T_2b1d88da_a93d_11e9_b044_a0999b1b23a7row0_col7 {\n",
       "            background-color:  #1f911f;\n",
       "            : ;\n",
       "        }    #T_2b1d88da_a93d_11e9_b044_a0999b1b23a7row0_col8 {\n",
       "            background-color:  #2d992d;\n",
       "            : ;\n",
       "        }    #T_2b1d88da_a93d_11e9_b044_a0999b1b23a7row0_col9 {\n",
       "            background-color:  #66b866;\n",
       "            : ;\n",
       "        }    #T_2b1d88da_a93d_11e9_b044_a0999b1b23a7row0_col10 {\n",
       "            background-color:  #2a972a;\n",
       "            : ;\n",
       "        }    #T_2b1d88da_a93d_11e9_b044_a0999b1b23a7row0_col11 {\n",
       "            background-color:  #7fc67f;\n",
       "            : ;\n",
       "        }    #T_2b1d88da_a93d_11e9_b044_a0999b1b23a7row0_col12 {\n",
       "            background-color:  #8ecf8e;\n",
       "            : ;\n",
       "        }    #T_2b1d88da_a93d_11e9_b044_a0999b1b23a7row1_col1 {\n",
       "            background-color:  #e5ffe5;\n",
       "            : ;\n",
       "        }    #T_2b1d88da_a93d_11e9_b044_a0999b1b23a7row1_col2 {\n",
       "            background-color:  #e5ffe5;\n",
       "            : ;\n",
       "        }    #T_2b1d88da_a93d_11e9_b044_a0999b1b23a7row1_col3 {\n",
       "            background-color:  #e5ffe5;\n",
       "            : ;\n",
       "        }    #T_2b1d88da_a93d_11e9_b044_a0999b1b23a7row1_col4 {\n",
       "            background-color:  #e5ffe5;\n",
       "            : ;\n",
       "        }    #T_2b1d88da_a93d_11e9_b044_a0999b1b23a7row1_col5 {\n",
       "            background-color:  #e5ffe5;\n",
       "            : ;\n",
       "        }    #T_2b1d88da_a93d_11e9_b044_a0999b1b23a7row1_col6 {\n",
       "            background-color:  #e5ffe5;\n",
       "            : ;\n",
       "        }    #T_2b1d88da_a93d_11e9_b044_a0999b1b23a7row1_col7 {\n",
       "            background-color:  #e5ffe5;\n",
       "            : ;\n",
       "        }    #T_2b1d88da_a93d_11e9_b044_a0999b1b23a7row1_col8 {\n",
       "            background-color:  #e5ffe5;\n",
       "            : ;\n",
       "        }    #T_2b1d88da_a93d_11e9_b044_a0999b1b23a7row1_col9 {\n",
       "            background-color:  #e5ffe5;\n",
       "            : ;\n",
       "        }    #T_2b1d88da_a93d_11e9_b044_a0999b1b23a7row1_col10 {\n",
       "            background-color:  #e5ffe5;\n",
       "            : ;\n",
       "        }    #T_2b1d88da_a93d_11e9_b044_a0999b1b23a7row1_col11 {\n",
       "            background-color:  #e5ffe5;\n",
       "            : ;\n",
       "        }    #T_2b1d88da_a93d_11e9_b044_a0999b1b23a7row1_col12 {\n",
       "            background-color:  #e5ffe5;\n",
       "            : ;\n",
       "        }    #T_2b1d88da_a93d_11e9_b044_a0999b1b23a7row2_col1 {\n",
       "            background-color:  #008000;\n",
       "            background-color:  yellow;\n",
       "        }    #T_2b1d88da_a93d_11e9_b044_a0999b1b23a7row2_col2 {\n",
       "            background-color:  #1a8e1a;\n",
       "            : ;\n",
       "        }    #T_2b1d88da_a93d_11e9_b044_a0999b1b23a7row2_col3 {\n",
       "            background-color:  #008000;\n",
       "            background-color:  yellow;\n",
       "        }    #T_2b1d88da_a93d_11e9_b044_a0999b1b23a7row2_col4 {\n",
       "            background-color:  #279527;\n",
       "            : ;\n",
       "        }    #T_2b1d88da_a93d_11e9_b044_a0999b1b23a7row2_col5 {\n",
       "            background-color:  #058205;\n",
       "            : ;\n",
       "        }    #T_2b1d88da_a93d_11e9_b044_a0999b1b23a7row2_col6 {\n",
       "            background-color:  #008000;\n",
       "            background-color:  yellow;\n",
       "        }    #T_2b1d88da_a93d_11e9_b044_a0999b1b23a7row2_col7 {\n",
       "            background-color:  #008000;\n",
       "            background-color:  yellow;\n",
       "        }    #T_2b1d88da_a93d_11e9_b044_a0999b1b23a7row2_col8 {\n",
       "            background-color:  #008000;\n",
       "            background-color:  yellow;\n",
       "        }    #T_2b1d88da_a93d_11e9_b044_a0999b1b23a7row2_col9 {\n",
       "            background-color:  #008000;\n",
       "            background-color:  yellow;\n",
       "        }    #T_2b1d88da_a93d_11e9_b044_a0999b1b23a7row2_col10 {\n",
       "            background-color:  #008000;\n",
       "            background-color:  yellow;\n",
       "        }    #T_2b1d88da_a93d_11e9_b044_a0999b1b23a7row2_col11 {\n",
       "            background-color:  #008000;\n",
       "            background-color:  yellow;\n",
       "        }    #T_2b1d88da_a93d_11e9_b044_a0999b1b23a7row2_col12 {\n",
       "            background-color:  #008000;\n",
       "            background-color:  yellow;\n",
       "        }</style>  \n",
       "<table id=\"T_2b1d88da_a93d_11e9_b044_a0999b1b23a7\" > \n",
       "<thead>    <tr> \n",
       "        <th class=\"index_name level0\" >DOD_m</th> \n",
       "        <th class=\"col_heading level0 col0\" >age_groups</th> \n",
       "        <th class=\"col_heading level0 col1\" >1</th> \n",
       "        <th class=\"col_heading level0 col2\" >2</th> \n",
       "        <th class=\"col_heading level0 col3\" >3</th> \n",
       "        <th class=\"col_heading level0 col4\" >4</th> \n",
       "        <th class=\"col_heading level0 col5\" >5</th> \n",
       "        <th class=\"col_heading level0 col6\" >6</th> \n",
       "        <th class=\"col_heading level0 col7\" >7</th> \n",
       "        <th class=\"col_heading level0 col8\" >8</th> \n",
       "        <th class=\"col_heading level0 col9\" >9</th> \n",
       "        <th class=\"col_heading level0 col10\" >10</th> \n",
       "        <th class=\"col_heading level0 col11\" >11</th> \n",
       "        <th class=\"col_heading level0 col12\" >12</th> \n",
       "    </tr></thead> \n",
       "<tbody>    <tr> \n",
       "        <th id=\"T_2b1d88da_a93d_11e9_b044_a0999b1b23a7level0_row0\" class=\"row_heading level0 row0\" >0</th> \n",
       "        <td id=\"T_2b1d88da_a93d_11e9_b044_a0999b1b23a7row0_col0\" class=\"data row0 col0\" >young</td> \n",
       "        <td id=\"T_2b1d88da_a93d_11e9_b044_a0999b1b23a7row0_col1\" class=\"data row0 col1\" >708</td> \n",
       "        <td id=\"T_2b1d88da_a93d_11e9_b044_a0999b1b23a7row0_col2\" class=\"data row0 col2\" >850</td> \n",
       "        <td id=\"T_2b1d88da_a93d_11e9_b044_a0999b1b23a7row0_col3\" class=\"data row0 col3\" >644</td> \n",
       "        <td id=\"T_2b1d88da_a93d_11e9_b044_a0999b1b23a7row0_col4\" class=\"data row0 col4\" >630</td> \n",
       "        <td id=\"T_2b1d88da_a93d_11e9_b044_a0999b1b23a7row0_col5\" class=\"data row0 col5\" >555</td> \n",
       "        <td id=\"T_2b1d88da_a93d_11e9_b044_a0999b1b23a7row0_col6\" class=\"data row0 col6\" >577</td> \n",
       "        <td id=\"T_2b1d88da_a93d_11e9_b044_a0999b1b23a7row0_col7\" class=\"data row0 col7\" >566</td> \n",
       "        <td id=\"T_2b1d88da_a93d_11e9_b044_a0999b1b23a7row0_col8\" class=\"data row0 col8\" >682</td> \n",
       "        <td id=\"T_2b1d88da_a93d_11e9_b044_a0999b1b23a7row0_col9\" class=\"data row0 col9\" >723</td> \n",
       "        <td id=\"T_2b1d88da_a93d_11e9_b044_a0999b1b23a7row0_col10\" class=\"data row0 col10\" >651</td> \n",
       "        <td id=\"T_2b1d88da_a93d_11e9_b044_a0999b1b23a7row0_col11\" class=\"data row0 col11\" >618</td> \n",
       "        <td id=\"T_2b1d88da_a93d_11e9_b044_a0999b1b23a7row0_col12\" class=\"data row0 col12\" >796</td> \n",
       "    </tr>    <tr> \n",
       "        <th id=\"T_2b1d88da_a93d_11e9_b044_a0999b1b23a7level0_row1\" class=\"row_heading level0 row1\" >1</th> \n",
       "        <td id=\"T_2b1d88da_a93d_11e9_b044_a0999b1b23a7row1_col0\" class=\"data row1 col0\" >mid-age</td> \n",
       "        <td id=\"T_2b1d88da_a93d_11e9_b044_a0999b1b23a7row1_col1\" class=\"data row1 col1\" >184</td> \n",
       "        <td id=\"T_2b1d88da_a93d_11e9_b044_a0999b1b23a7row1_col2\" class=\"data row1 col2\" >208</td> \n",
       "        <td id=\"T_2b1d88da_a93d_11e9_b044_a0999b1b23a7row1_col3\" class=\"data row1 col3\" >191</td> \n",
       "        <td id=\"T_2b1d88da_a93d_11e9_b044_a0999b1b23a7row1_col4\" class=\"data row1 col4\" >163</td> \n",
       "        <td id=\"T_2b1d88da_a93d_11e9_b044_a0999b1b23a7row1_col5\" class=\"data row1 col5\" >117</td> \n",
       "        <td id=\"T_2b1d88da_a93d_11e9_b044_a0999b1b23a7row1_col6\" class=\"data row1 col6\" >131</td> \n",
       "        <td id=\"T_2b1d88da_a93d_11e9_b044_a0999b1b23a7row1_col7\" class=\"data row1 col7\" >133</td> \n",
       "        <td id=\"T_2b1d88da_a93d_11e9_b044_a0999b1b23a7row1_col8\" class=\"data row1 col8\" >167</td> \n",
       "        <td id=\"T_2b1d88da_a93d_11e9_b044_a0999b1b23a7row1_col9\" class=\"data row1 col9\" >242</td> \n",
       "        <td id=\"T_2b1d88da_a93d_11e9_b044_a0999b1b23a7row1_col10\" class=\"data row1 col10\" >195</td> \n",
       "        <td id=\"T_2b1d88da_a93d_11e9_b044_a0999b1b23a7row1_col11\" class=\"data row1 col11\" >176</td> \n",
       "        <td id=\"T_2b1d88da_a93d_11e9_b044_a0999b1b23a7row1_col12\" class=\"data row1 col12\" >261</td> \n",
       "    </tr>    <tr> \n",
       "        <th id=\"T_2b1d88da_a93d_11e9_b044_a0999b1b23a7level0_row2\" class=\"row_heading level0 row2\" >2</th> \n",
       "        <td id=\"T_2b1d88da_a93d_11e9_b044_a0999b1b23a7row2_col0\" class=\"data row2 col0\" >senior</td> \n",
       "        <td id=\"T_2b1d88da_a93d_11e9_b044_a0999b1b23a7row2_col1\" class=\"data row2 col1\" >969</td> \n",
       "        <td id=\"T_2b1d88da_a93d_11e9_b044_a0999b1b23a7row2_col2\" class=\"data row2 col2\" >777</td> \n",
       "        <td id=\"T_2b1d88da_a93d_11e9_b044_a0999b1b23a7row2_col3\" class=\"data row2 col3\" >685</td> \n",
       "        <td id=\"T_2b1d88da_a93d_11e9_b044_a0999b1b23a7row2_col4\" class=\"data row2 col4\" >550</td> \n",
       "        <td id=\"T_2b1d88da_a93d_11e9_b044_a0999b1b23a7row2_col5\" class=\"data row2 col5\" >546</td> \n",
       "        <td id=\"T_2b1d88da_a93d_11e9_b044_a0999b1b23a7row2_col6\" class=\"data row2 col6\" >607</td> \n",
       "        <td id=\"T_2b1d88da_a93d_11e9_b044_a0999b1b23a7row2_col7\" class=\"data row2 col7\" >635</td> \n",
       "        <td id=\"T_2b1d88da_a93d_11e9_b044_a0999b1b23a7row2_col8\" class=\"data row2 col8\" >809</td> \n",
       "        <td id=\"T_2b1d88da_a93d_11e9_b044_a0999b1b23a7row2_col9\" class=\"data row2 col9\" >1106</td> \n",
       "        <td id=\"T_2b1d88da_a93d_11e9_b044_a0999b1b23a7row2_col10\" class=\"data row2 col10\" >755</td> \n",
       "        <td id=\"T_2b1d88da_a93d_11e9_b044_a0999b1b23a7row2_col11\" class=\"data row2 col11\" >1161</td> \n",
       "        <td id=\"T_2b1d88da_a93d_11e9_b044_a0999b1b23a7row2_col12\" class=\"data row2 col12\" >1660</td> \n",
       "    </tr></tbody> \n",
       "</table> "
      ],
      "text/plain": [
       "<pandas.io.formats.style.Styler at 0x1a19c70c50>"
      ]
     },
     "execution_count": 113,
     "metadata": {},
     "output_type": "execute_result"
    }
   ],
   "source": [
    "cm = sns.light_palette(\"green\", as_cmap=True)\n",
    "df.groupby([\"age_groups\", \"DOD_m\"])[\"name\"].count().unstack().reset_index().style.background_gradient(cmap=cm).apply(highlight_max,subset=[i for i in range(1,13)])"
   ]
  },
  {
   "cell_type": "markdown",
   "metadata": {},
   "source": [
    "It seems that young people die more between months 2-5, whereas senior people die at the end of the year and the start of the new year"
   ]
  },
  {
   "cell_type": "markdown",
   "metadata": {},
   "source": [
    "What about age groups and sex groups together? "
   ]
  },
  {
   "cell_type": "code",
   "execution_count": 109,
   "metadata": {},
   "outputs": [
    {
     "data": {
      "text/html": [
       "<style  type=\"text/css\" >\n",
       "    #T_034b9ac2_a93d_11e9_b044_a0999b1b23a7row0_col2 {\n",
       "            width:  10em;\n",
       "             height:  80%;\n",
       "            background:  linear-gradient(90deg, transparent 0%, transparent 0.0%, #5fba7d 0.0%, #5fba7d 40.8%, transparent 40.8%);\n",
       "        }    #T_034b9ac2_a93d_11e9_b044_a0999b1b23a7row0_col3 {\n",
       "            width:  10em;\n",
       "             height:  80%;\n",
       "            background:  linear-gradient(90deg, transparent 0%, transparent 0.0%, #5fba7d 0.0%, #5fba7d 43.9%, transparent 43.9%);\n",
       "        }    #T_034b9ac2_a93d_11e9_b044_a0999b1b23a7row1_col2 {\n",
       "            width:  10em;\n",
       "             height:  80%;\n",
       "            background:  linear-gradient(90deg, transparent 0%, transparent 0.0%, #5fba7d 0.0%, #5fba7d 48.9%, transparent 48.9%);\n",
       "        }    #T_034b9ac2_a93d_11e9_b044_a0999b1b23a7row1_col3 {\n",
       "            width:  10em;\n",
       "             height:  80%;\n",
       "            background:  linear-gradient(90deg, transparent 0%, transparent 0.0%, #5fba7d 0.0%, #5fba7d 52.8%, transparent 52.8%);\n",
       "        }    #T_034b9ac2_a93d_11e9_b044_a0999b1b23a7row2_col2 {\n",
       "            width:  10em;\n",
       "             height:  80%;\n",
       "            background:  linear-gradient(90deg, transparent 0%, transparent 0.0%, #5fba7d 0.0%, #5fba7d 36.6%, transparent 36.6%);\n",
       "        }    #T_034b9ac2_a93d_11e9_b044_a0999b1b23a7row2_col3 {\n",
       "            width:  10em;\n",
       "             height:  80%;\n",
       "            background:  linear-gradient(90deg, transparent 0%, transparent 0.0%, #5fba7d 0.0%, #5fba7d 40.3%, transparent 40.3%);\n",
       "        }    #T_034b9ac2_a93d_11e9_b044_a0999b1b23a7row3_col2 {\n",
       "            width:  10em;\n",
       "             height:  80%;\n",
       "            background:  linear-gradient(90deg, transparent 0%, transparent 0.0%, #5fba7d 0.0%, #5fba7d 35.3%, transparent 35.3%);\n",
       "        }    #T_034b9ac2_a93d_11e9_b044_a0999b1b23a7row3_col3 {\n",
       "            width:  10em;\n",
       "             height:  80%;\n",
       "            background:  linear-gradient(90deg, transparent 0%, transparent 0.0%, #5fba7d 0.0%, #5fba7d 39.8%, transparent 39.8%);\n",
       "        }    #T_034b9ac2_a93d_11e9_b044_a0999b1b23a7row4_col2 {\n",
       "            width:  10em;\n",
       "             height:  80%;\n",
       "            background:  linear-gradient(90deg, transparent 0%, transparent 0.0%, #5fba7d 0.0%, #5fba7d 34.3%, transparent 34.3%);\n",
       "        }    #T_034b9ac2_a93d_11e9_b044_a0999b1b23a7row4_col3 {\n",
       "            width:  10em;\n",
       "             height:  80%;\n",
       "            background:  linear-gradient(90deg, transparent 0%, transparent 0.0%, #5fba7d 0.0%, #5fba7d 32.9%, transparent 32.9%);\n",
       "        }    #T_034b9ac2_a93d_11e9_b044_a0999b1b23a7row5_col2 {\n",
       "            width:  10em;\n",
       "             height:  80%;\n",
       "            background:  linear-gradient(90deg, transparent 0%, transparent 0.0%, #5fba7d 0.0%, #5fba7d 32.5%, transparent 32.5%);\n",
       "        }    #T_034b9ac2_a93d_11e9_b044_a0999b1b23a7row5_col3 {\n",
       "            width:  10em;\n",
       "             height:  80%;\n",
       "            background:  linear-gradient(90deg, transparent 0%, transparent 0.0%, #5fba7d 0.0%, #5fba7d 36.3%, transparent 36.3%);\n",
       "        }    #T_034b9ac2_a93d_11e9_b044_a0999b1b23a7row6_col2 {\n",
       "            width:  10em;\n",
       "             height:  80%;\n",
       "            background:  linear-gradient(90deg, transparent 0%, transparent 0.0%, #5fba7d 0.0%, #5fba7d 34.1%, transparent 34.1%);\n",
       "        }    #T_034b9ac2_a93d_11e9_b044_a0999b1b23a7row6_col3 {\n",
       "            width:  10em;\n",
       "             height:  80%;\n",
       "            background:  linear-gradient(90deg, transparent 0%, transparent 0.0%, #5fba7d 0.0%, #5fba7d 34.1%, transparent 34.1%);\n",
       "        }    #T_034b9ac2_a93d_11e9_b044_a0999b1b23a7row7_col2 {\n",
       "            width:  10em;\n",
       "             height:  80%;\n",
       "            background:  linear-gradient(90deg, transparent 0%, transparent 0.0%, #5fba7d 0.0%, #5fba7d 39.4%, transparent 39.4%);\n",
       "        }    #T_034b9ac2_a93d_11e9_b044_a0999b1b23a7row7_col3 {\n",
       "            width:  10em;\n",
       "             height:  80%;\n",
       "            background:  linear-gradient(90deg, transparent 0%, transparent 0.0%, #5fba7d 0.0%, #5fba7d 42.3%, transparent 42.3%);\n",
       "        }    #T_034b9ac2_a93d_11e9_b044_a0999b1b23a7row8_col2 {\n",
       "            width:  10em;\n",
       "             height:  80%;\n",
       "            background:  linear-gradient(90deg, transparent 0%, transparent 0.0%, #5fba7d 0.0%, #5fba7d 42.5%, transparent 42.5%);\n",
       "        }    #T_034b9ac2_a93d_11e9_b044_a0999b1b23a7row8_col3 {\n",
       "            width:  10em;\n",
       "             height:  80%;\n",
       "            background:  linear-gradient(90deg, transparent 0%, transparent 0.0%, #5fba7d 0.0%, #5fba7d 44.3%, transparent 44.3%);\n",
       "        }    #T_034b9ac2_a93d_11e9_b044_a0999b1b23a7row9_col2 {\n",
       "            width:  10em;\n",
       "             height:  80%;\n",
       "            background:  linear-gradient(90deg, transparent 0%, transparent 0.0%, #5fba7d 0.0%, #5fba7d 33.2%, transparent 33.2%);\n",
       "        }    #T_034b9ac2_a93d_11e9_b044_a0999b1b23a7row9_col3 {\n",
       "            width:  10em;\n",
       "             height:  80%;\n",
       "            background:  linear-gradient(90deg, transparent 0%, transparent 0.0%, #5fba7d 0.0%, #5fba7d 43.4%, transparent 43.4%);\n",
       "        }    #T_034b9ac2_a93d_11e9_b044_a0999b1b23a7row10_col2 {\n",
       "            width:  10em;\n",
       "             height:  80%;\n",
       "            background:  linear-gradient(90deg, transparent 0%, transparent 0.0%, #5fba7d 0.0%, #5fba7d 37.3%, transparent 37.3%);\n",
       "        }    #T_034b9ac2_a93d_11e9_b044_a0999b1b23a7row10_col3 {\n",
       "            width:  10em;\n",
       "             height:  80%;\n",
       "            background:  linear-gradient(90deg, transparent 0%, transparent 0.0%, #5fba7d 0.0%, #5fba7d 37.2%, transparent 37.2%);\n",
       "        }    #T_034b9ac2_a93d_11e9_b044_a0999b1b23a7row11_col2 {\n",
       "            width:  10em;\n",
       "             height:  80%;\n",
       "            background:  linear-gradient(90deg, transparent 0%, transparent 0.0%, #5fba7d 0.0%, #5fba7d 39.1%, transparent 39.1%);\n",
       "        }    #T_034b9ac2_a93d_11e9_b044_a0999b1b23a7row11_col3 {\n",
       "            width:  10em;\n",
       "             height:  80%;\n",
       "            background:  linear-gradient(90deg, transparent 0%, transparent 0.0%, #5fba7d 0.0%, #5fba7d 54.1%, transparent 54.1%);\n",
       "        }    #T_034b9ac2_a93d_11e9_b044_a0999b1b23a7row12_col2 {\n",
       "            width:  10em;\n",
       "             height:  80%;\n",
       "            background:  linear-gradient(90deg, transparent 0%, transparent 0.0%, #5fba7d 0.0%, #5fba7d 8.5%, transparent 8.5%);\n",
       "        }    #T_034b9ac2_a93d_11e9_b044_a0999b1b23a7row12_col3 {\n",
       "            width:  10em;\n",
       "             height:  80%;\n",
       "            background:  linear-gradient(90deg, transparent 0%, transparent 0.0%, #5fba7d 0.0%, #5fba7d 12.9%, transparent 12.9%);\n",
       "        }    #T_034b9ac2_a93d_11e9_b044_a0999b1b23a7row13_col2 {\n",
       "            width:  10em;\n",
       "             height:  80%;\n",
       "            background:  linear-gradient(90deg, transparent 0%, transparent 0.0%, #5fba7d 0.0%, #5fba7d 8.5%, transparent 8.5%);\n",
       "        }    #T_034b9ac2_a93d_11e9_b044_a0999b1b23a7row13_col3 {\n",
       "            width:  10em;\n",
       "             height:  80%;\n",
       "            background:  linear-gradient(90deg, transparent 0%, transparent 0.0%, #5fba7d 0.0%, #5fba7d 15.4%, transparent 15.4%);\n",
       "        }    #T_034b9ac2_a93d_11e9_b044_a0999b1b23a7row14_col2 {\n",
       "            width:  10em;\n",
       "             height:  80%;\n",
       "            background:  linear-gradient(90deg, transparent 0%, transparent 0.0%, #5fba7d 0.0%, #5fba7d 8.9%, transparent 8.9%);\n",
       "        }    #T_034b9ac2_a93d_11e9_b044_a0999b1b23a7row14_col3 {\n",
       "            width:  10em;\n",
       "             height:  80%;\n",
       "            background:  linear-gradient(90deg, transparent 0%, transparent 0.0%, #5fba7d 0.0%, #5fba7d 13.3%, transparent 13.3%);\n",
       "        }    #T_034b9ac2_a93d_11e9_b044_a0999b1b23a7row15_col2 {\n",
       "            width:  10em;\n",
       "             height:  80%;\n",
       "            background:  linear-gradient(90deg, transparent 0%, transparent 0.0%, #5fba7d 0.0%, #5fba7d 7.3%, transparent 7.3%);\n",
       "        }    #T_034b9ac2_a93d_11e9_b044_a0999b1b23a7row15_col3 {\n",
       "            width:  10em;\n",
       "             height:  80%;\n",
       "            background:  linear-gradient(90deg, transparent 0%, transparent 0.0%, #5fba7d 0.0%, #5fba7d 11.6%, transparent 11.6%);\n",
       "        }    #T_034b9ac2_a93d_11e9_b044_a0999b1b23a7row16_col2 {\n",
       "            width:  10em;\n",
       "             height:  80%;\n",
       "            background:  linear-gradient(90deg, transparent 0%, transparent 0.0%, #5fba7d 0.0%, #5fba7d 5.6%, transparent 5.6%);\n",
       "        }    #T_034b9ac2_a93d_11e9_b044_a0999b1b23a7row16_col3 {\n",
       "            width:  10em;\n",
       "             height:  80%;\n",
       "            background:  linear-gradient(90deg, transparent 0%, transparent 0.0%, #5fba7d 0.0%, #5fba7d 8.1%, transparent 8.1%);\n",
       "        }    #T_034b9ac2_a93d_11e9_b044_a0999b1b23a7row17_col2 {\n",
       "            width:  10em;\n",
       "             height:  80%;\n",
       "            background:  linear-gradient(90deg, transparent 0%, transparent 0.0%, #5fba7d 0.0%, #5fba7d 5.1%, transparent 5.1%);\n",
       "        }    #T_034b9ac2_a93d_11e9_b044_a0999b1b23a7row17_col3 {\n",
       "            width:  10em;\n",
       "             height:  80%;\n",
       "            background:  linear-gradient(90deg, transparent 0%, transparent 0.0%, #5fba7d 0.0%, #5fba7d 9.8%, transparent 9.8%);\n",
       "        }    #T_034b9ac2_a93d_11e9_b044_a0999b1b23a7row18_col2 {\n",
       "            width:  10em;\n",
       "             height:  80%;\n",
       "            background:  linear-gradient(90deg, transparent 0%, transparent 0.0%, #5fba7d 0.0%, #5fba7d 4.1%, transparent 4.1%);\n",
       "        }    #T_034b9ac2_a93d_11e9_b044_a0999b1b23a7row18_col3 {\n",
       "            width:  10em;\n",
       "             height:  80%;\n",
       "            background:  linear-gradient(90deg, transparent 0%, transparent 0.0%, #5fba7d 0.0%, #5fba7d 10.7%, transparent 10.7%);\n",
       "        }    #T_034b9ac2_a93d_11e9_b044_a0999b1b23a7row19_col2 {\n",
       "            width:  10em;\n",
       "             height:  80%;\n",
       "            background:  linear-gradient(90deg, transparent 0%, transparent 0.0%, #5fba7d 0.0%, #5fba7d 8.5%, transparent 8.5%);\n",
       "        }    #T_034b9ac2_a93d_11e9_b044_a0999b1b23a7row19_col3 {\n",
       "            width:  10em;\n",
       "             height:  80%;\n",
       "            background:  linear-gradient(90deg, transparent 0%, transparent 0.0%, #5fba7d 0.0%, #5fba7d 11.2%, transparent 11.2%);\n",
       "        }    #T_034b9ac2_a93d_11e9_b044_a0999b1b23a7row20_col2 {\n",
       "            width:  10em;\n",
       "             height:  80%;\n",
       "            background:  linear-gradient(90deg, transparent 0%, transparent 0.0%, #5fba7d 0.0%, #5fba7d 11.1%, transparent 11.1%);\n",
       "        }    #T_034b9ac2_a93d_11e9_b044_a0999b1b23a7row20_col3 {\n",
       "            width:  10em;\n",
       "             height:  80%;\n",
       "            background:  linear-gradient(90deg, transparent 0%, transparent 0.0%, #5fba7d 0.0%, #5fba7d 17.0%, transparent 17.0%);\n",
       "        }    #T_034b9ac2_a93d_11e9_b044_a0999b1b23a7row21_col2 {\n",
       "            width:  10em;\n",
       "             height:  80%;\n",
       "            background:  linear-gradient(90deg, transparent 0%, transparent 0.0%, #5fba7d 0.0%, #5fba7d 8.8%, transparent 8.8%);\n",
       "        }    #T_034b9ac2_a93d_11e9_b044_a0999b1b23a7row21_col3 {\n",
       "            width:  10em;\n",
       "             height:  80%;\n",
       "            background:  linear-gradient(90deg, transparent 0%, transparent 0.0%, #5fba7d 0.0%, #5fba7d 13.8%, transparent 13.8%);\n",
       "        }    #T_034b9ac2_a93d_11e9_b044_a0999b1b23a7row22_col2 {\n",
       "            width:  10em;\n",
       "             height:  80%;\n",
       "            background:  linear-gradient(90deg, transparent 0%, transparent 0.0%, #5fba7d 0.0%, #5fba7d 8.6%, transparent 8.6%);\n",
       "        }    #T_034b9ac2_a93d_11e9_b044_a0999b1b23a7row22_col3 {\n",
       "            width:  10em;\n",
       "             height:  80%;\n",
       "            background:  linear-gradient(90deg, transparent 0%, transparent 0.0%, #5fba7d 0.0%, #5fba7d 12.0%, transparent 12.0%);\n",
       "        }    #T_034b9ac2_a93d_11e9_b044_a0999b1b23a7row23_col2 {\n",
       "            width:  10em;\n",
       "             height:  80%;\n",
       "            background:  linear-gradient(90deg, transparent 0%, transparent 0.0%, #5fba7d 0.0%, #5fba7d 13.0%, transparent 13.0%);\n",
       "        }    #T_034b9ac2_a93d_11e9_b044_a0999b1b23a7row23_col3 {\n",
       "            width:  10em;\n",
       "             height:  80%;\n",
       "            background:  linear-gradient(90deg, transparent 0%, transparent 0.0%, #5fba7d 0.0%, #5fba7d 17.6%, transparent 17.6%);\n",
       "        }    #T_034b9ac2_a93d_11e9_b044_a0999b1b23a7row24_col2 {\n",
       "            width:  10em;\n",
       "             height:  80%;\n",
       "            background:  linear-gradient(90deg, transparent 0%, transparent 0.0%, #5fba7d 0.0%, #5fba7d 56.2%, transparent 56.2%);\n",
       "        }    #T_034b9ac2_a93d_11e9_b044_a0999b1b23a7row24_col3 {\n",
       "            width:  10em;\n",
       "             height:  80%;\n",
       "            background:  linear-gradient(90deg, transparent 0%, transparent 0.0%, #5fba7d 0.0%, #5fba7d 59.9%, transparent 59.9%);\n",
       "        }    #T_034b9ac2_a93d_11e9_b044_a0999b1b23a7row25_col2 {\n",
       "            width:  10em;\n",
       "             height:  80%;\n",
       "            background:  linear-gradient(90deg, transparent 0%, transparent 0.0%, #5fba7d 0.0%, #5fba7d 47.6%, transparent 47.6%);\n",
       "        }    #T_034b9ac2_a93d_11e9_b044_a0999b1b23a7row25_col3 {\n",
       "            width:  10em;\n",
       "             height:  80%;\n",
       "            background:  linear-gradient(90deg, transparent 0%, transparent 0.0%, #5fba7d 0.0%, #5fba7d 46.3%, transparent 46.3%);\n",
       "        }    #T_034b9ac2_a93d_11e9_b044_a0999b1b23a7row26_col2 {\n",
       "            width:  10em;\n",
       "             height:  80%;\n",
       "            background:  linear-gradient(90deg, transparent 0%, transparent 0.0%, #5fba7d 0.0%, #5fba7d 39.5%, transparent 39.5%);\n",
       "        }    #T_034b9ac2_a93d_11e9_b044_a0999b1b23a7row26_col3 {\n",
       "            width:  10em;\n",
       "             height:  80%;\n",
       "            background:  linear-gradient(90deg, transparent 0%, transparent 0.0%, #5fba7d 0.0%, #5fba7d 42.5%, transparent 42.5%);\n",
       "        }    #T_034b9ac2_a93d_11e9_b044_a0999b1b23a7row27_col2 {\n",
       "            width:  10em;\n",
       "             height:  80%;\n",
       "            background:  linear-gradient(90deg, transparent 0%, transparent 0.0%, #5fba7d 0.0%, #5fba7d 35.1%, transparent 35.1%);\n",
       "        }    #T_034b9ac2_a93d_11e9_b044_a0999b1b23a7row27_col3 {\n",
       "            width:  10em;\n",
       "             height:  80%;\n",
       "            background:  linear-gradient(90deg, transparent 0%, transparent 0.0%, #5fba7d 0.0%, #5fba7d 31.7%, transparent 31.7%);\n",
       "        }    #T_034b9ac2_a93d_11e9_b044_a0999b1b23a7row28_col2 {\n",
       "            width:  10em;\n",
       "             height:  80%;\n",
       "            background:  linear-gradient(90deg, transparent 0%, transparent 0.0%, #5fba7d 0.0%, #5fba7d 32.5%, transparent 32.5%);\n",
       "        }    #T_034b9ac2_a93d_11e9_b044_a0999b1b23a7row28_col3 {\n",
       "            width:  10em;\n",
       "             height:  80%;\n",
       "            background:  linear-gradient(90deg, transparent 0%, transparent 0.0%, #5fba7d 0.0%, #5fba7d 33.2%, transparent 33.2%);\n",
       "        }    #T_034b9ac2_a93d_11e9_b044_a0999b1b23a7row29_col2 {\n",
       "            width:  10em;\n",
       "             height:  80%;\n",
       "            background:  linear-gradient(90deg, transparent 0%, transparent 0.0%, #5fba7d 0.0%, #5fba7d 38.8%, transparent 38.8%);\n",
       "        }    #T_034b9ac2_a93d_11e9_b044_a0999b1b23a7row29_col3 {\n",
       "            width:  10em;\n",
       "             height:  80%;\n",
       "            background:  linear-gradient(90deg, transparent 0%, transparent 0.0%, #5fba7d 0.0%, #5fba7d 35.0%, transparent 35.0%);\n",
       "        }    #T_034b9ac2_a93d_11e9_b044_a0999b1b23a7row30_col2 {\n",
       "            width:  10em;\n",
       "             height:  80%;\n",
       "            background:  linear-gradient(90deg, transparent 0%, transparent 0.0%, #5fba7d 0.0%, #5fba7d 40.4%, transparent 40.4%);\n",
       "        }    #T_034b9ac2_a93d_11e9_b044_a0999b1b23a7row30_col3 {\n",
       "            width:  10em;\n",
       "             height:  80%;\n",
       "            background:  linear-gradient(90deg, transparent 0%, transparent 0.0%, #5fba7d 0.0%, #5fba7d 36.7%, transparent 36.7%);\n",
       "        }    #T_034b9ac2_a93d_11e9_b044_a0999b1b23a7row31_col2 {\n",
       "            width:  10em;\n",
       "             height:  80%;\n",
       "            background:  linear-gradient(90deg, transparent 0%, transparent 0.0%, #5fba7d 0.0%, #5fba7d 47.9%, transparent 47.9%);\n",
       "        }    #T_034b9ac2_a93d_11e9_b044_a0999b1b23a7row31_col3 {\n",
       "            width:  10em;\n",
       "             height:  80%;\n",
       "            background:  linear-gradient(90deg, transparent 0%, transparent 0.0%, #5fba7d 0.0%, #5fba7d 49.3%, transparent 49.3%);\n",
       "        }    #T_034b9ac2_a93d_11e9_b044_a0999b1b23a7row32_col2 {\n",
       "            width:  10em;\n",
       "             height:  80%;\n",
       "            background:  linear-gradient(90deg, transparent 0%, transparent 0.0%, #5fba7d 0.0%, #5fba7d 72.2%, transparent 72.2%);\n",
       "        }    #T_034b9ac2_a93d_11e9_b044_a0999b1b23a7row32_col3 {\n",
       "            width:  10em;\n",
       "             height:  80%;\n",
       "            background:  linear-gradient(90deg, transparent 0%, transparent 0.0%, #5fba7d 0.0%, #5fba7d 62.7%, transparent 62.7%);\n",
       "        }    #T_034b9ac2_a93d_11e9_b044_a0999b1b23a7row33_col2 {\n",
       "            width:  10em;\n",
       "             height:  80%;\n",
       "            background:  linear-gradient(90deg, transparent 0%, transparent 0.0%, #5fba7d 0.0%, #5fba7d 46.6%, transparent 46.6%);\n",
       "        }    #T_034b9ac2_a93d_11e9_b044_a0999b1b23a7row33_col3 {\n",
       "            width:  10em;\n",
       "             height:  80%;\n",
       "            background:  linear-gradient(90deg, transparent 0%, transparent 0.0%, #5fba7d 0.0%, #5fba7d 44.7%, transparent 44.7%);\n",
       "        }    #T_034b9ac2_a93d_11e9_b044_a0999b1b23a7row34_col2 {\n",
       "            width:  10em;\n",
       "             height:  80%;\n",
       "            background:  linear-gradient(90deg, transparent 0%, transparent 0.0%, #5fba7d 0.0%, #5fba7d 66.0%, transparent 66.0%);\n",
       "        }    #T_034b9ac2_a93d_11e9_b044_a0999b1b23a7row34_col3 {\n",
       "            width:  10em;\n",
       "             height:  80%;\n",
       "            background:  linear-gradient(90deg, transparent 0%, transparent 0.0%, #5fba7d 0.0%, #5fba7d 72.7%, transparent 72.7%);\n",
       "        }    #T_034b9ac2_a93d_11e9_b044_a0999b1b23a7row35_col2 {\n",
       "            width:  10em;\n",
       "             height:  80%;\n",
       "            background:  linear-gradient(90deg, transparent 0%, transparent 0.0%, #5fba7d 0.0%, #5fba7d 100.0%, transparent 100.0%);\n",
       "        }    #T_034b9ac2_a93d_11e9_b044_a0999b1b23a7row35_col3 {\n",
       "            width:  10em;\n",
       "             height:  80%;\n",
       "            background:  linear-gradient(90deg, transparent 0%, transparent 0.0%, #5fba7d 0.0%, #5fba7d 100.0%, transparent 100.0%);\n",
       "        }</style>  \n",
       "<table id=\"T_034b9ac2_a93d_11e9_b044_a0999b1b23a7\" > \n",
       "<thead>    <tr> \n",
       "        <th class=\"index_name level0\" >sex</th> \n",
       "        <th class=\"col_heading level0 col0\" >age_groups</th> \n",
       "        <th class=\"col_heading level0 col1\" >DOD_m</th> \n",
       "        <th class=\"col_heading level0 col2\" >أنثى</th> \n",
       "        <th class=\"col_heading level0 col3\" >ذكر</th> \n",
       "    </tr></thead> \n",
       "<tbody>    <tr> \n",
       "        <th id=\"T_034b9ac2_a93d_11e9_b044_a0999b1b23a7level0_row0\" class=\"row_heading level0 row0\" >0</th> \n",
       "        <td id=\"T_034b9ac2_a93d_11e9_b044_a0999b1b23a7row0_col0\" class=\"data row0 col0\" >young</td> \n",
       "        <td id=\"T_034b9ac2_a93d_11e9_b044_a0999b1b23a7row0_col1\" class=\"data row0 col1\" >1</td> \n",
       "        <td id=\"T_034b9ac2_a93d_11e9_b044_a0999b1b23a7row0_col2\" class=\"data row0 col2\" >279</td> \n",
       "        <td id=\"T_034b9ac2_a93d_11e9_b044_a0999b1b23a7row0_col3\" class=\"data row0 col3\" >429</td> \n",
       "    </tr>    <tr> \n",
       "        <th id=\"T_034b9ac2_a93d_11e9_b044_a0999b1b23a7level0_row1\" class=\"row_heading level0 row1\" >1</th> \n",
       "        <td id=\"T_034b9ac2_a93d_11e9_b044_a0999b1b23a7row1_col0\" class=\"data row1 col0\" >young</td> \n",
       "        <td id=\"T_034b9ac2_a93d_11e9_b044_a0999b1b23a7row1_col1\" class=\"data row1 col1\" >2</td> \n",
       "        <td id=\"T_034b9ac2_a93d_11e9_b044_a0999b1b23a7row1_col2\" class=\"data row1 col2\" >334</td> \n",
       "        <td id=\"T_034b9ac2_a93d_11e9_b044_a0999b1b23a7row1_col3\" class=\"data row1 col3\" >516</td> \n",
       "    </tr>    <tr> \n",
       "        <th id=\"T_034b9ac2_a93d_11e9_b044_a0999b1b23a7level0_row2\" class=\"row_heading level0 row2\" >2</th> \n",
       "        <td id=\"T_034b9ac2_a93d_11e9_b044_a0999b1b23a7row2_col0\" class=\"data row2 col0\" >young</td> \n",
       "        <td id=\"T_034b9ac2_a93d_11e9_b044_a0999b1b23a7row2_col1\" class=\"data row2 col1\" >3</td> \n",
       "        <td id=\"T_034b9ac2_a93d_11e9_b044_a0999b1b23a7row2_col2\" class=\"data row2 col2\" >250</td> \n",
       "        <td id=\"T_034b9ac2_a93d_11e9_b044_a0999b1b23a7row2_col3\" class=\"data row2 col3\" >394</td> \n",
       "    </tr>    <tr> \n",
       "        <th id=\"T_034b9ac2_a93d_11e9_b044_a0999b1b23a7level0_row3\" class=\"row_heading level0 row3\" >3</th> \n",
       "        <td id=\"T_034b9ac2_a93d_11e9_b044_a0999b1b23a7row3_col0\" class=\"data row3 col0\" >young</td> \n",
       "        <td id=\"T_034b9ac2_a93d_11e9_b044_a0999b1b23a7row3_col1\" class=\"data row3 col1\" >4</td> \n",
       "        <td id=\"T_034b9ac2_a93d_11e9_b044_a0999b1b23a7row3_col2\" class=\"data row3 col2\" >241</td> \n",
       "        <td id=\"T_034b9ac2_a93d_11e9_b044_a0999b1b23a7row3_col3\" class=\"data row3 col3\" >389</td> \n",
       "    </tr>    <tr> \n",
       "        <th id=\"T_034b9ac2_a93d_11e9_b044_a0999b1b23a7level0_row4\" class=\"row_heading level0 row4\" >4</th> \n",
       "        <td id=\"T_034b9ac2_a93d_11e9_b044_a0999b1b23a7row4_col0\" class=\"data row4 col0\" >young</td> \n",
       "        <td id=\"T_034b9ac2_a93d_11e9_b044_a0999b1b23a7row4_col1\" class=\"data row4 col1\" >5</td> \n",
       "        <td id=\"T_034b9ac2_a93d_11e9_b044_a0999b1b23a7row4_col2\" class=\"data row4 col2\" >234</td> \n",
       "        <td id=\"T_034b9ac2_a93d_11e9_b044_a0999b1b23a7row4_col3\" class=\"data row4 col3\" >321</td> \n",
       "    </tr>    <tr> \n",
       "        <th id=\"T_034b9ac2_a93d_11e9_b044_a0999b1b23a7level0_row5\" class=\"row_heading level0 row5\" >5</th> \n",
       "        <td id=\"T_034b9ac2_a93d_11e9_b044_a0999b1b23a7row5_col0\" class=\"data row5 col0\" >young</td> \n",
       "        <td id=\"T_034b9ac2_a93d_11e9_b044_a0999b1b23a7row5_col1\" class=\"data row5 col1\" >6</td> \n",
       "        <td id=\"T_034b9ac2_a93d_11e9_b044_a0999b1b23a7row5_col2\" class=\"data row5 col2\" >222</td> \n",
       "        <td id=\"T_034b9ac2_a93d_11e9_b044_a0999b1b23a7row5_col3\" class=\"data row5 col3\" >355</td> \n",
       "    </tr>    <tr> \n",
       "        <th id=\"T_034b9ac2_a93d_11e9_b044_a0999b1b23a7level0_row6\" class=\"row_heading level0 row6\" >6</th> \n",
       "        <td id=\"T_034b9ac2_a93d_11e9_b044_a0999b1b23a7row6_col0\" class=\"data row6 col0\" >young</td> \n",
       "        <td id=\"T_034b9ac2_a93d_11e9_b044_a0999b1b23a7row6_col1\" class=\"data row6 col1\" >7</td> \n",
       "        <td id=\"T_034b9ac2_a93d_11e9_b044_a0999b1b23a7row6_col2\" class=\"data row6 col2\" >233</td> \n",
       "        <td id=\"T_034b9ac2_a93d_11e9_b044_a0999b1b23a7row6_col3\" class=\"data row6 col3\" >333</td> \n",
       "    </tr>    <tr> \n",
       "        <th id=\"T_034b9ac2_a93d_11e9_b044_a0999b1b23a7level0_row7\" class=\"row_heading level0 row7\" >7</th> \n",
       "        <td id=\"T_034b9ac2_a93d_11e9_b044_a0999b1b23a7row7_col0\" class=\"data row7 col0\" >young</td> \n",
       "        <td id=\"T_034b9ac2_a93d_11e9_b044_a0999b1b23a7row7_col1\" class=\"data row7 col1\" >8</td> \n",
       "        <td id=\"T_034b9ac2_a93d_11e9_b044_a0999b1b23a7row7_col2\" class=\"data row7 col2\" >269</td> \n",
       "        <td id=\"T_034b9ac2_a93d_11e9_b044_a0999b1b23a7row7_col3\" class=\"data row7 col3\" >413</td> \n",
       "    </tr>    <tr> \n",
       "        <th id=\"T_034b9ac2_a93d_11e9_b044_a0999b1b23a7level0_row8\" class=\"row_heading level0 row8\" >8</th> \n",
       "        <td id=\"T_034b9ac2_a93d_11e9_b044_a0999b1b23a7row8_col0\" class=\"data row8 col0\" >young</td> \n",
       "        <td id=\"T_034b9ac2_a93d_11e9_b044_a0999b1b23a7row8_col1\" class=\"data row8 col1\" >9</td> \n",
       "        <td id=\"T_034b9ac2_a93d_11e9_b044_a0999b1b23a7row8_col2\" class=\"data row8 col2\" >290</td> \n",
       "        <td id=\"T_034b9ac2_a93d_11e9_b044_a0999b1b23a7row8_col3\" class=\"data row8 col3\" >433</td> \n",
       "    </tr>    <tr> \n",
       "        <th id=\"T_034b9ac2_a93d_11e9_b044_a0999b1b23a7level0_row9\" class=\"row_heading level0 row9\" >9</th> \n",
       "        <td id=\"T_034b9ac2_a93d_11e9_b044_a0999b1b23a7row9_col0\" class=\"data row9 col0\" >young</td> \n",
       "        <td id=\"T_034b9ac2_a93d_11e9_b044_a0999b1b23a7row9_col1\" class=\"data row9 col1\" >10</td> \n",
       "        <td id=\"T_034b9ac2_a93d_11e9_b044_a0999b1b23a7row9_col2\" class=\"data row9 col2\" >227</td> \n",
       "        <td id=\"T_034b9ac2_a93d_11e9_b044_a0999b1b23a7row9_col3\" class=\"data row9 col3\" >424</td> \n",
       "    </tr>    <tr> \n",
       "        <th id=\"T_034b9ac2_a93d_11e9_b044_a0999b1b23a7level0_row10\" class=\"row_heading level0 row10\" >10</th> \n",
       "        <td id=\"T_034b9ac2_a93d_11e9_b044_a0999b1b23a7row10_col0\" class=\"data row10 col0\" >young</td> \n",
       "        <td id=\"T_034b9ac2_a93d_11e9_b044_a0999b1b23a7row10_col1\" class=\"data row10 col1\" >11</td> \n",
       "        <td id=\"T_034b9ac2_a93d_11e9_b044_a0999b1b23a7row10_col2\" class=\"data row10 col2\" >255</td> \n",
       "        <td id=\"T_034b9ac2_a93d_11e9_b044_a0999b1b23a7row10_col3\" class=\"data row10 col3\" >363</td> \n",
       "    </tr>    <tr> \n",
       "        <th id=\"T_034b9ac2_a93d_11e9_b044_a0999b1b23a7level0_row11\" class=\"row_heading level0 row11\" >11</th> \n",
       "        <td id=\"T_034b9ac2_a93d_11e9_b044_a0999b1b23a7row11_col0\" class=\"data row11 col0\" >young</td> \n",
       "        <td id=\"T_034b9ac2_a93d_11e9_b044_a0999b1b23a7row11_col1\" class=\"data row11 col1\" >12</td> \n",
       "        <td id=\"T_034b9ac2_a93d_11e9_b044_a0999b1b23a7row11_col2\" class=\"data row11 col2\" >267</td> \n",
       "        <td id=\"T_034b9ac2_a93d_11e9_b044_a0999b1b23a7row11_col3\" class=\"data row11 col3\" >529</td> \n",
       "    </tr>    <tr> \n",
       "        <th id=\"T_034b9ac2_a93d_11e9_b044_a0999b1b23a7level0_row12\" class=\"row_heading level0 row12\" >12</th> \n",
       "        <td id=\"T_034b9ac2_a93d_11e9_b044_a0999b1b23a7row12_col0\" class=\"data row12 col0\" >mid-age</td> \n",
       "        <td id=\"T_034b9ac2_a93d_11e9_b044_a0999b1b23a7row12_col1\" class=\"data row12 col1\" >1</td> \n",
       "        <td id=\"T_034b9ac2_a93d_11e9_b044_a0999b1b23a7row12_col2\" class=\"data row12 col2\" >58</td> \n",
       "        <td id=\"T_034b9ac2_a93d_11e9_b044_a0999b1b23a7row12_col3\" class=\"data row12 col3\" >126</td> \n",
       "    </tr>    <tr> \n",
       "        <th id=\"T_034b9ac2_a93d_11e9_b044_a0999b1b23a7level0_row13\" class=\"row_heading level0 row13\" >13</th> \n",
       "        <td id=\"T_034b9ac2_a93d_11e9_b044_a0999b1b23a7row13_col0\" class=\"data row13 col0\" >mid-age</td> \n",
       "        <td id=\"T_034b9ac2_a93d_11e9_b044_a0999b1b23a7row13_col1\" class=\"data row13 col1\" >2</td> \n",
       "        <td id=\"T_034b9ac2_a93d_11e9_b044_a0999b1b23a7row13_col2\" class=\"data row13 col2\" >58</td> \n",
       "        <td id=\"T_034b9ac2_a93d_11e9_b044_a0999b1b23a7row13_col3\" class=\"data row13 col3\" >150</td> \n",
       "    </tr>    <tr> \n",
       "        <th id=\"T_034b9ac2_a93d_11e9_b044_a0999b1b23a7level0_row14\" class=\"row_heading level0 row14\" >14</th> \n",
       "        <td id=\"T_034b9ac2_a93d_11e9_b044_a0999b1b23a7row14_col0\" class=\"data row14 col0\" >mid-age</td> \n",
       "        <td id=\"T_034b9ac2_a93d_11e9_b044_a0999b1b23a7row14_col1\" class=\"data row14 col1\" >3</td> \n",
       "        <td id=\"T_034b9ac2_a93d_11e9_b044_a0999b1b23a7row14_col2\" class=\"data row14 col2\" >61</td> \n",
       "        <td id=\"T_034b9ac2_a93d_11e9_b044_a0999b1b23a7row14_col3\" class=\"data row14 col3\" >130</td> \n",
       "    </tr>    <tr> \n",
       "        <th id=\"T_034b9ac2_a93d_11e9_b044_a0999b1b23a7level0_row15\" class=\"row_heading level0 row15\" >15</th> \n",
       "        <td id=\"T_034b9ac2_a93d_11e9_b044_a0999b1b23a7row15_col0\" class=\"data row15 col0\" >mid-age</td> \n",
       "        <td id=\"T_034b9ac2_a93d_11e9_b044_a0999b1b23a7row15_col1\" class=\"data row15 col1\" >4</td> \n",
       "        <td id=\"T_034b9ac2_a93d_11e9_b044_a0999b1b23a7row15_col2\" class=\"data row15 col2\" >50</td> \n",
       "        <td id=\"T_034b9ac2_a93d_11e9_b044_a0999b1b23a7row15_col3\" class=\"data row15 col3\" >113</td> \n",
       "    </tr>    <tr> \n",
       "        <th id=\"T_034b9ac2_a93d_11e9_b044_a0999b1b23a7level0_row16\" class=\"row_heading level0 row16\" >16</th> \n",
       "        <td id=\"T_034b9ac2_a93d_11e9_b044_a0999b1b23a7row16_col0\" class=\"data row16 col0\" >mid-age</td> \n",
       "        <td id=\"T_034b9ac2_a93d_11e9_b044_a0999b1b23a7row16_col1\" class=\"data row16 col1\" >5</td> \n",
       "        <td id=\"T_034b9ac2_a93d_11e9_b044_a0999b1b23a7row16_col2\" class=\"data row16 col2\" >38</td> \n",
       "        <td id=\"T_034b9ac2_a93d_11e9_b044_a0999b1b23a7row16_col3\" class=\"data row16 col3\" >79</td> \n",
       "    </tr>    <tr> \n",
       "        <th id=\"T_034b9ac2_a93d_11e9_b044_a0999b1b23a7level0_row17\" class=\"row_heading level0 row17\" >17</th> \n",
       "        <td id=\"T_034b9ac2_a93d_11e9_b044_a0999b1b23a7row17_col0\" class=\"data row17 col0\" >mid-age</td> \n",
       "        <td id=\"T_034b9ac2_a93d_11e9_b044_a0999b1b23a7row17_col1\" class=\"data row17 col1\" >6</td> \n",
       "        <td id=\"T_034b9ac2_a93d_11e9_b044_a0999b1b23a7row17_col2\" class=\"data row17 col2\" >35</td> \n",
       "        <td id=\"T_034b9ac2_a93d_11e9_b044_a0999b1b23a7row17_col3\" class=\"data row17 col3\" >96</td> \n",
       "    </tr>    <tr> \n",
       "        <th id=\"T_034b9ac2_a93d_11e9_b044_a0999b1b23a7level0_row18\" class=\"row_heading level0 row18\" >18</th> \n",
       "        <td id=\"T_034b9ac2_a93d_11e9_b044_a0999b1b23a7row18_col0\" class=\"data row18 col0\" >mid-age</td> \n",
       "        <td id=\"T_034b9ac2_a93d_11e9_b044_a0999b1b23a7row18_col1\" class=\"data row18 col1\" >7</td> \n",
       "        <td id=\"T_034b9ac2_a93d_11e9_b044_a0999b1b23a7row18_col2\" class=\"data row18 col2\" >28</td> \n",
       "        <td id=\"T_034b9ac2_a93d_11e9_b044_a0999b1b23a7row18_col3\" class=\"data row18 col3\" >105</td> \n",
       "    </tr>    <tr> \n",
       "        <th id=\"T_034b9ac2_a93d_11e9_b044_a0999b1b23a7level0_row19\" class=\"row_heading level0 row19\" >19</th> \n",
       "        <td id=\"T_034b9ac2_a93d_11e9_b044_a0999b1b23a7row19_col0\" class=\"data row19 col0\" >mid-age</td> \n",
       "        <td id=\"T_034b9ac2_a93d_11e9_b044_a0999b1b23a7row19_col1\" class=\"data row19 col1\" >8</td> \n",
       "        <td id=\"T_034b9ac2_a93d_11e9_b044_a0999b1b23a7row19_col2\" class=\"data row19 col2\" >58</td> \n",
       "        <td id=\"T_034b9ac2_a93d_11e9_b044_a0999b1b23a7row19_col3\" class=\"data row19 col3\" >109</td> \n",
       "    </tr>    <tr> \n",
       "        <th id=\"T_034b9ac2_a93d_11e9_b044_a0999b1b23a7level0_row20\" class=\"row_heading level0 row20\" >20</th> \n",
       "        <td id=\"T_034b9ac2_a93d_11e9_b044_a0999b1b23a7row20_col0\" class=\"data row20 col0\" >mid-age</td> \n",
       "        <td id=\"T_034b9ac2_a93d_11e9_b044_a0999b1b23a7row20_col1\" class=\"data row20 col1\" >9</td> \n",
       "        <td id=\"T_034b9ac2_a93d_11e9_b044_a0999b1b23a7row20_col2\" class=\"data row20 col2\" >76</td> \n",
       "        <td id=\"T_034b9ac2_a93d_11e9_b044_a0999b1b23a7row20_col3\" class=\"data row20 col3\" >166</td> \n",
       "    </tr>    <tr> \n",
       "        <th id=\"T_034b9ac2_a93d_11e9_b044_a0999b1b23a7level0_row21\" class=\"row_heading level0 row21\" >21</th> \n",
       "        <td id=\"T_034b9ac2_a93d_11e9_b044_a0999b1b23a7row21_col0\" class=\"data row21 col0\" >mid-age</td> \n",
       "        <td id=\"T_034b9ac2_a93d_11e9_b044_a0999b1b23a7row21_col1\" class=\"data row21 col1\" >10</td> \n",
       "        <td id=\"T_034b9ac2_a93d_11e9_b044_a0999b1b23a7row21_col2\" class=\"data row21 col2\" >60</td> \n",
       "        <td id=\"T_034b9ac2_a93d_11e9_b044_a0999b1b23a7row21_col3\" class=\"data row21 col3\" >135</td> \n",
       "    </tr>    <tr> \n",
       "        <th id=\"T_034b9ac2_a93d_11e9_b044_a0999b1b23a7level0_row22\" class=\"row_heading level0 row22\" >22</th> \n",
       "        <td id=\"T_034b9ac2_a93d_11e9_b044_a0999b1b23a7row22_col0\" class=\"data row22 col0\" >mid-age</td> \n",
       "        <td id=\"T_034b9ac2_a93d_11e9_b044_a0999b1b23a7row22_col1\" class=\"data row22 col1\" >11</td> \n",
       "        <td id=\"T_034b9ac2_a93d_11e9_b044_a0999b1b23a7row22_col2\" class=\"data row22 col2\" >59</td> \n",
       "        <td id=\"T_034b9ac2_a93d_11e9_b044_a0999b1b23a7row22_col3\" class=\"data row22 col3\" >117</td> \n",
       "    </tr>    <tr> \n",
       "        <th id=\"T_034b9ac2_a93d_11e9_b044_a0999b1b23a7level0_row23\" class=\"row_heading level0 row23\" >23</th> \n",
       "        <td id=\"T_034b9ac2_a93d_11e9_b044_a0999b1b23a7row23_col0\" class=\"data row23 col0\" >mid-age</td> \n",
       "        <td id=\"T_034b9ac2_a93d_11e9_b044_a0999b1b23a7row23_col1\" class=\"data row23 col1\" >12</td> \n",
       "        <td id=\"T_034b9ac2_a93d_11e9_b044_a0999b1b23a7row23_col2\" class=\"data row23 col2\" >89</td> \n",
       "        <td id=\"T_034b9ac2_a93d_11e9_b044_a0999b1b23a7row23_col3\" class=\"data row23 col3\" >172</td> \n",
       "    </tr>    <tr> \n",
       "        <th id=\"T_034b9ac2_a93d_11e9_b044_a0999b1b23a7level0_row24\" class=\"row_heading level0 row24\" >24</th> \n",
       "        <td id=\"T_034b9ac2_a93d_11e9_b044_a0999b1b23a7row24_col0\" class=\"data row24 col0\" >senior</td> \n",
       "        <td id=\"T_034b9ac2_a93d_11e9_b044_a0999b1b23a7row24_col1\" class=\"data row24 col1\" >1</td> \n",
       "        <td id=\"T_034b9ac2_a93d_11e9_b044_a0999b1b23a7row24_col2\" class=\"data row24 col2\" >384</td> \n",
       "        <td id=\"T_034b9ac2_a93d_11e9_b044_a0999b1b23a7row24_col3\" class=\"data row24 col3\" >585</td> \n",
       "    </tr>    <tr> \n",
       "        <th id=\"T_034b9ac2_a93d_11e9_b044_a0999b1b23a7level0_row25\" class=\"row_heading level0 row25\" >25</th> \n",
       "        <td id=\"T_034b9ac2_a93d_11e9_b044_a0999b1b23a7row25_col0\" class=\"data row25 col0\" >senior</td> \n",
       "        <td id=\"T_034b9ac2_a93d_11e9_b044_a0999b1b23a7row25_col1\" class=\"data row25 col1\" >2</td> \n",
       "        <td id=\"T_034b9ac2_a93d_11e9_b044_a0999b1b23a7row25_col2\" class=\"data row25 col2\" >325</td> \n",
       "        <td id=\"T_034b9ac2_a93d_11e9_b044_a0999b1b23a7row25_col3\" class=\"data row25 col3\" >452</td> \n",
       "    </tr>    <tr> \n",
       "        <th id=\"T_034b9ac2_a93d_11e9_b044_a0999b1b23a7level0_row26\" class=\"row_heading level0 row26\" >26</th> \n",
       "        <td id=\"T_034b9ac2_a93d_11e9_b044_a0999b1b23a7row26_col0\" class=\"data row26 col0\" >senior</td> \n",
       "        <td id=\"T_034b9ac2_a93d_11e9_b044_a0999b1b23a7row26_col1\" class=\"data row26 col1\" >3</td> \n",
       "        <td id=\"T_034b9ac2_a93d_11e9_b044_a0999b1b23a7row26_col2\" class=\"data row26 col2\" >270</td> \n",
       "        <td id=\"T_034b9ac2_a93d_11e9_b044_a0999b1b23a7row26_col3\" class=\"data row26 col3\" >415</td> \n",
       "    </tr>    <tr> \n",
       "        <th id=\"T_034b9ac2_a93d_11e9_b044_a0999b1b23a7level0_row27\" class=\"row_heading level0 row27\" >27</th> \n",
       "        <td id=\"T_034b9ac2_a93d_11e9_b044_a0999b1b23a7row27_col0\" class=\"data row27 col0\" >senior</td> \n",
       "        <td id=\"T_034b9ac2_a93d_11e9_b044_a0999b1b23a7row27_col1\" class=\"data row27 col1\" >4</td> \n",
       "        <td id=\"T_034b9ac2_a93d_11e9_b044_a0999b1b23a7row27_col2\" class=\"data row27 col2\" >240</td> \n",
       "        <td id=\"T_034b9ac2_a93d_11e9_b044_a0999b1b23a7row27_col3\" class=\"data row27 col3\" >310</td> \n",
       "    </tr>    <tr> \n",
       "        <th id=\"T_034b9ac2_a93d_11e9_b044_a0999b1b23a7level0_row28\" class=\"row_heading level0 row28\" >28</th> \n",
       "        <td id=\"T_034b9ac2_a93d_11e9_b044_a0999b1b23a7row28_col0\" class=\"data row28 col0\" >senior</td> \n",
       "        <td id=\"T_034b9ac2_a93d_11e9_b044_a0999b1b23a7row28_col1\" class=\"data row28 col1\" >5</td> \n",
       "        <td id=\"T_034b9ac2_a93d_11e9_b044_a0999b1b23a7row28_col2\" class=\"data row28 col2\" >222</td> \n",
       "        <td id=\"T_034b9ac2_a93d_11e9_b044_a0999b1b23a7row28_col3\" class=\"data row28 col3\" >324</td> \n",
       "    </tr>    <tr> \n",
       "        <th id=\"T_034b9ac2_a93d_11e9_b044_a0999b1b23a7level0_row29\" class=\"row_heading level0 row29\" >29</th> \n",
       "        <td id=\"T_034b9ac2_a93d_11e9_b044_a0999b1b23a7row29_col0\" class=\"data row29 col0\" >senior</td> \n",
       "        <td id=\"T_034b9ac2_a93d_11e9_b044_a0999b1b23a7row29_col1\" class=\"data row29 col1\" >6</td> \n",
       "        <td id=\"T_034b9ac2_a93d_11e9_b044_a0999b1b23a7row29_col2\" class=\"data row29 col2\" >265</td> \n",
       "        <td id=\"T_034b9ac2_a93d_11e9_b044_a0999b1b23a7row29_col3\" class=\"data row29 col3\" >342</td> \n",
       "    </tr>    <tr> \n",
       "        <th id=\"T_034b9ac2_a93d_11e9_b044_a0999b1b23a7level0_row30\" class=\"row_heading level0 row30\" >30</th> \n",
       "        <td id=\"T_034b9ac2_a93d_11e9_b044_a0999b1b23a7row30_col0\" class=\"data row30 col0\" >senior</td> \n",
       "        <td id=\"T_034b9ac2_a93d_11e9_b044_a0999b1b23a7row30_col1\" class=\"data row30 col1\" >7</td> \n",
       "        <td id=\"T_034b9ac2_a93d_11e9_b044_a0999b1b23a7row30_col2\" class=\"data row30 col2\" >276</td> \n",
       "        <td id=\"T_034b9ac2_a93d_11e9_b044_a0999b1b23a7row30_col3\" class=\"data row30 col3\" >359</td> \n",
       "    </tr>    <tr> \n",
       "        <th id=\"T_034b9ac2_a93d_11e9_b044_a0999b1b23a7level0_row31\" class=\"row_heading level0 row31\" >31</th> \n",
       "        <td id=\"T_034b9ac2_a93d_11e9_b044_a0999b1b23a7row31_col0\" class=\"data row31 col0\" >senior</td> \n",
       "        <td id=\"T_034b9ac2_a93d_11e9_b044_a0999b1b23a7row31_col1\" class=\"data row31 col1\" >8</td> \n",
       "        <td id=\"T_034b9ac2_a93d_11e9_b044_a0999b1b23a7row31_col2\" class=\"data row31 col2\" >327</td> \n",
       "        <td id=\"T_034b9ac2_a93d_11e9_b044_a0999b1b23a7row31_col3\" class=\"data row31 col3\" >482</td> \n",
       "    </tr>    <tr> \n",
       "        <th id=\"T_034b9ac2_a93d_11e9_b044_a0999b1b23a7level0_row32\" class=\"row_heading level0 row32\" >32</th> \n",
       "        <td id=\"T_034b9ac2_a93d_11e9_b044_a0999b1b23a7row32_col0\" class=\"data row32 col0\" >senior</td> \n",
       "        <td id=\"T_034b9ac2_a93d_11e9_b044_a0999b1b23a7row32_col1\" class=\"data row32 col1\" >9</td> \n",
       "        <td id=\"T_034b9ac2_a93d_11e9_b044_a0999b1b23a7row32_col2\" class=\"data row32 col2\" >493</td> \n",
       "        <td id=\"T_034b9ac2_a93d_11e9_b044_a0999b1b23a7row32_col3\" class=\"data row32 col3\" >613</td> \n",
       "    </tr>    <tr> \n",
       "        <th id=\"T_034b9ac2_a93d_11e9_b044_a0999b1b23a7level0_row33\" class=\"row_heading level0 row33\" >33</th> \n",
       "        <td id=\"T_034b9ac2_a93d_11e9_b044_a0999b1b23a7row33_col0\" class=\"data row33 col0\" >senior</td> \n",
       "        <td id=\"T_034b9ac2_a93d_11e9_b044_a0999b1b23a7row33_col1\" class=\"data row33 col1\" >10</td> \n",
       "        <td id=\"T_034b9ac2_a93d_11e9_b044_a0999b1b23a7row33_col2\" class=\"data row33 col2\" >318</td> \n",
       "        <td id=\"T_034b9ac2_a93d_11e9_b044_a0999b1b23a7row33_col3\" class=\"data row33 col3\" >437</td> \n",
       "    </tr>    <tr> \n",
       "        <th id=\"T_034b9ac2_a93d_11e9_b044_a0999b1b23a7level0_row34\" class=\"row_heading level0 row34\" >34</th> \n",
       "        <td id=\"T_034b9ac2_a93d_11e9_b044_a0999b1b23a7row34_col0\" class=\"data row34 col0\" >senior</td> \n",
       "        <td id=\"T_034b9ac2_a93d_11e9_b044_a0999b1b23a7row34_col1\" class=\"data row34 col1\" >11</td> \n",
       "        <td id=\"T_034b9ac2_a93d_11e9_b044_a0999b1b23a7row34_col2\" class=\"data row34 col2\" >451</td> \n",
       "        <td id=\"T_034b9ac2_a93d_11e9_b044_a0999b1b23a7row34_col3\" class=\"data row34 col3\" >710</td> \n",
       "    </tr>    <tr> \n",
       "        <th id=\"T_034b9ac2_a93d_11e9_b044_a0999b1b23a7level0_row35\" class=\"row_heading level0 row35\" >35</th> \n",
       "        <td id=\"T_034b9ac2_a93d_11e9_b044_a0999b1b23a7row35_col0\" class=\"data row35 col0\" >senior</td> \n",
       "        <td id=\"T_034b9ac2_a93d_11e9_b044_a0999b1b23a7row35_col1\" class=\"data row35 col1\" >12</td> \n",
       "        <td id=\"T_034b9ac2_a93d_11e9_b044_a0999b1b23a7row35_col2\" class=\"data row35 col2\" >683</td> \n",
       "        <td id=\"T_034b9ac2_a93d_11e9_b044_a0999b1b23a7row35_col3\" class=\"data row35 col3\" >977</td> \n",
       "    </tr></tbody> \n",
       "</table> "
      ],
      "text/plain": [
       "<pandas.io.formats.style.Styler at 0x1036e1518>"
      ]
     },
     "execution_count": 109,
     "metadata": {},
     "output_type": "execute_result"
    }
   ],
   "source": [
    "df.groupby([\"age_groups\", \"DOD_m\",\"sex\"])[\"name\"].count().unstack().reset_index().style\\\n",
    ".bar(subset=[\"أنثى\",\"ذكر\"], align='mid', color=['#d6005f', '#5fba7d'])\n"
   ]
  },
  {
   "cell_type": "markdown",
   "metadata": {},
   "source": [
    "It doesn't tell us anything special about Shaban. "
   ]
  },
  {
   "cell_type": "code",
   "execution_count": 124,
   "metadata": {},
   "outputs": [
    {
     "data": {
      "application/vnd.plotly.v1+json": {
       "config": {
        "plotlyServerURL": "https://plot.ly"
       },
       "data": [
        {
         "mode": "lines+markers",
         "type": "scatter",
         "x": [
          1,
          2,
          3,
          4,
          5,
          6,
          7,
          8,
          9,
          10,
          11,
          12
         ],
         "y": [
          1868,
          1839,
          1526,
          1345,
          1223,
          1319,
          1339,
          1662,
          2082,
          1605,
          1965,
          2725
         ]
        }
       ],
       "layout": {
        "template": {
         "data": {
          "bar": [
           {
            "error_x": {
             "color": "#2a3f5f"
            },
            "error_y": {
             "color": "#2a3f5f"
            },
            "marker": {
             "line": {
              "color": "#E5ECF6",
              "width": 0.5
             }
            },
            "type": "bar"
           }
          ],
          "barpolar": [
           {
            "marker": {
             "line": {
              "color": "#E5ECF6",
              "width": 0.5
             }
            },
            "type": "barpolar"
           }
          ],
          "carpet": [
           {
            "aaxis": {
             "endlinecolor": "#2a3f5f",
             "gridcolor": "white",
             "linecolor": "white",
             "minorgridcolor": "white",
             "startlinecolor": "#2a3f5f"
            },
            "baxis": {
             "endlinecolor": "#2a3f5f",
             "gridcolor": "white",
             "linecolor": "white",
             "minorgridcolor": "white",
             "startlinecolor": "#2a3f5f"
            },
            "type": "carpet"
           }
          ],
          "choropleth": [
           {
            "colorbar": {
             "outlinewidth": 0,
             "ticks": ""
            },
            "type": "choropleth"
           }
          ],
          "contour": [
           {
            "colorbar": {
             "outlinewidth": 0,
             "ticks": ""
            },
            "colorscale": [
             [
              0,
              "#0d0887"
             ],
             [
              0.1111111111111111,
              "#46039f"
             ],
             [
              0.2222222222222222,
              "#7201a8"
             ],
             [
              0.3333333333333333,
              "#9c179e"
             ],
             [
              0.4444444444444444,
              "#bd3786"
             ],
             [
              0.5555555555555556,
              "#d8576b"
             ],
             [
              0.6666666666666666,
              "#ed7953"
             ],
             [
              0.7777777777777778,
              "#fb9f3a"
             ],
             [
              0.8888888888888888,
              "#fdca26"
             ],
             [
              1,
              "#f0f921"
             ]
            ],
            "type": "contour"
           }
          ],
          "contourcarpet": [
           {
            "colorbar": {
             "outlinewidth": 0,
             "ticks": ""
            },
            "type": "contourcarpet"
           }
          ],
          "heatmap": [
           {
            "colorbar": {
             "outlinewidth": 0,
             "ticks": ""
            },
            "colorscale": [
             [
              0,
              "#0d0887"
             ],
             [
              0.1111111111111111,
              "#46039f"
             ],
             [
              0.2222222222222222,
              "#7201a8"
             ],
             [
              0.3333333333333333,
              "#9c179e"
             ],
             [
              0.4444444444444444,
              "#bd3786"
             ],
             [
              0.5555555555555556,
              "#d8576b"
             ],
             [
              0.6666666666666666,
              "#ed7953"
             ],
             [
              0.7777777777777778,
              "#fb9f3a"
             ],
             [
              0.8888888888888888,
              "#fdca26"
             ],
             [
              1,
              "#f0f921"
             ]
            ],
            "type": "heatmap"
           }
          ],
          "heatmapgl": [
           {
            "colorbar": {
             "outlinewidth": 0,
             "ticks": ""
            },
            "colorscale": [
             [
              0,
              "#0d0887"
             ],
             [
              0.1111111111111111,
              "#46039f"
             ],
             [
              0.2222222222222222,
              "#7201a8"
             ],
             [
              0.3333333333333333,
              "#9c179e"
             ],
             [
              0.4444444444444444,
              "#bd3786"
             ],
             [
              0.5555555555555556,
              "#d8576b"
             ],
             [
              0.6666666666666666,
              "#ed7953"
             ],
             [
              0.7777777777777778,
              "#fb9f3a"
             ],
             [
              0.8888888888888888,
              "#fdca26"
             ],
             [
              1,
              "#f0f921"
             ]
            ],
            "type": "heatmapgl"
           }
          ],
          "histogram": [
           {
            "marker": {
             "colorbar": {
              "outlinewidth": 0,
              "ticks": ""
             }
            },
            "type": "histogram"
           }
          ],
          "histogram2d": [
           {
            "colorbar": {
             "outlinewidth": 0,
             "ticks": ""
            },
            "colorscale": [
             [
              0,
              "#0d0887"
             ],
             [
              0.1111111111111111,
              "#46039f"
             ],
             [
              0.2222222222222222,
              "#7201a8"
             ],
             [
              0.3333333333333333,
              "#9c179e"
             ],
             [
              0.4444444444444444,
              "#bd3786"
             ],
             [
              0.5555555555555556,
              "#d8576b"
             ],
             [
              0.6666666666666666,
              "#ed7953"
             ],
             [
              0.7777777777777778,
              "#fb9f3a"
             ],
             [
              0.8888888888888888,
              "#fdca26"
             ],
             [
              1,
              "#f0f921"
             ]
            ],
            "type": "histogram2d"
           }
          ],
          "histogram2dcontour": [
           {
            "colorbar": {
             "outlinewidth": 0,
             "ticks": ""
            },
            "colorscale": [
             [
              0,
              "#0d0887"
             ],
             [
              0.1111111111111111,
              "#46039f"
             ],
             [
              0.2222222222222222,
              "#7201a8"
             ],
             [
              0.3333333333333333,
              "#9c179e"
             ],
             [
              0.4444444444444444,
              "#bd3786"
             ],
             [
              0.5555555555555556,
              "#d8576b"
             ],
             [
              0.6666666666666666,
              "#ed7953"
             ],
             [
              0.7777777777777778,
              "#fb9f3a"
             ],
             [
              0.8888888888888888,
              "#fdca26"
             ],
             [
              1,
              "#f0f921"
             ]
            ],
            "type": "histogram2dcontour"
           }
          ],
          "mesh3d": [
           {
            "colorbar": {
             "outlinewidth": 0,
             "ticks": ""
            },
            "type": "mesh3d"
           }
          ],
          "parcoords": [
           {
            "line": {
             "colorbar": {
              "outlinewidth": 0,
              "ticks": ""
             }
            },
            "type": "parcoords"
           }
          ],
          "scatter": [
           {
            "marker": {
             "colorbar": {
              "outlinewidth": 0,
              "ticks": ""
             }
            },
            "type": "scatter"
           }
          ],
          "scatter3d": [
           {
            "line": {
             "colorbar": {
              "outlinewidth": 0,
              "ticks": ""
             }
            },
            "marker": {
             "colorbar": {
              "outlinewidth": 0,
              "ticks": ""
             }
            },
            "type": "scatter3d"
           }
          ],
          "scattercarpet": [
           {
            "marker": {
             "colorbar": {
              "outlinewidth": 0,
              "ticks": ""
             }
            },
            "type": "scattercarpet"
           }
          ],
          "scattergeo": [
           {
            "marker": {
             "colorbar": {
              "outlinewidth": 0,
              "ticks": ""
             }
            },
            "type": "scattergeo"
           }
          ],
          "scattergl": [
           {
            "marker": {
             "colorbar": {
              "outlinewidth": 0,
              "ticks": ""
             }
            },
            "type": "scattergl"
           }
          ],
          "scattermapbox": [
           {
            "marker": {
             "colorbar": {
              "outlinewidth": 0,
              "ticks": ""
             }
            },
            "type": "scattermapbox"
           }
          ],
          "scatterpolar": [
           {
            "marker": {
             "colorbar": {
              "outlinewidth": 0,
              "ticks": ""
             }
            },
            "type": "scatterpolar"
           }
          ],
          "scatterpolargl": [
           {
            "marker": {
             "colorbar": {
              "outlinewidth": 0,
              "ticks": ""
             }
            },
            "type": "scatterpolargl"
           }
          ],
          "scatterternary": [
           {
            "marker": {
             "colorbar": {
              "outlinewidth": 0,
              "ticks": ""
             }
            },
            "type": "scatterternary"
           }
          ],
          "surface": [
           {
            "colorbar": {
             "outlinewidth": 0,
             "ticks": ""
            },
            "colorscale": [
             [
              0,
              "#0d0887"
             ],
             [
              0.1111111111111111,
              "#46039f"
             ],
             [
              0.2222222222222222,
              "#7201a8"
             ],
             [
              0.3333333333333333,
              "#9c179e"
             ],
             [
              0.4444444444444444,
              "#bd3786"
             ],
             [
              0.5555555555555556,
              "#d8576b"
             ],
             [
              0.6666666666666666,
              "#ed7953"
             ],
             [
              0.7777777777777778,
              "#fb9f3a"
             ],
             [
              0.8888888888888888,
              "#fdca26"
             ],
             [
              1,
              "#f0f921"
             ]
            ],
            "type": "surface"
           }
          ],
          "table": [
           {
            "cells": {
             "fill": {
              "color": "#EBF0F8"
             },
             "line": {
              "color": "white"
             }
            },
            "header": {
             "fill": {
              "color": "#C8D4E3"
             },
             "line": {
              "color": "white"
             }
            },
            "type": "table"
           }
          ]
         },
         "layout": {
          "annotationdefaults": {
           "arrowcolor": "#2a3f5f",
           "arrowhead": 0,
           "arrowwidth": 1
          },
          "colorscale": {
           "diverging": [
            [
             0,
             "#8e0152"
            ],
            [
             0.1,
             "#c51b7d"
            ],
            [
             0.2,
             "#de77ae"
            ],
            [
             0.3,
             "#f1b6da"
            ],
            [
             0.4,
             "#fde0ef"
            ],
            [
             0.5,
             "#f7f7f7"
            ],
            [
             0.6,
             "#e6f5d0"
            ],
            [
             0.7,
             "#b8e186"
            ],
            [
             0.8,
             "#7fbc41"
            ],
            [
             0.9,
             "#4d9221"
            ],
            [
             1,
             "#276419"
            ]
           ],
           "sequential": [
            [
             0,
             "#0d0887"
            ],
            [
             0.1111111111111111,
             "#46039f"
            ],
            [
             0.2222222222222222,
             "#7201a8"
            ],
            [
             0.3333333333333333,
             "#9c179e"
            ],
            [
             0.4444444444444444,
             "#bd3786"
            ],
            [
             0.5555555555555556,
             "#d8576b"
            ],
            [
             0.6666666666666666,
             "#ed7953"
            ],
            [
             0.7777777777777778,
             "#fb9f3a"
            ],
            [
             0.8888888888888888,
             "#fdca26"
            ],
            [
             1,
             "#f0f921"
            ]
           ],
           "sequentialminus": [
            [
             0,
             "#0d0887"
            ],
            [
             0.1111111111111111,
             "#46039f"
            ],
            [
             0.2222222222222222,
             "#7201a8"
            ],
            [
             0.3333333333333333,
             "#9c179e"
            ],
            [
             0.4444444444444444,
             "#bd3786"
            ],
            [
             0.5555555555555556,
             "#d8576b"
            ],
            [
             0.6666666666666666,
             "#ed7953"
            ],
            [
             0.7777777777777778,
             "#fb9f3a"
            ],
            [
             0.8888888888888888,
             "#fdca26"
            ],
            [
             1,
             "#f0f921"
            ]
           ]
          },
          "colorway": [
           "#636efa",
           "#EF553B",
           "#00cc96",
           "#ab63fa",
           "#FFA15A",
           "#19d3f3",
           "#FF6692",
           "#B6E880",
           "#FF97FF",
           "#FECB52"
          ],
          "font": {
           "color": "#2a3f5f"
          },
          "geo": {
           "bgcolor": "white",
           "lakecolor": "white",
           "landcolor": "#E5ECF6",
           "showlakes": true,
           "showland": true,
           "subunitcolor": "white"
          },
          "hoverlabel": {
           "align": "left"
          },
          "hovermode": "closest",
          "mapbox": {
           "style": "light"
          },
          "paper_bgcolor": "white",
          "plot_bgcolor": "#E5ECF6",
          "polar": {
           "angularaxis": {
            "gridcolor": "white",
            "linecolor": "white",
            "ticks": ""
           },
           "bgcolor": "#E5ECF6",
           "radialaxis": {
            "gridcolor": "white",
            "linecolor": "white",
            "ticks": ""
           }
          },
          "scene": {
           "xaxis": {
            "backgroundcolor": "#E5ECF6",
            "gridcolor": "white",
            "gridwidth": 2,
            "linecolor": "white",
            "showbackground": true,
            "ticks": "",
            "zerolinecolor": "white"
           },
           "yaxis": {
            "backgroundcolor": "#E5ECF6",
            "gridcolor": "white",
            "gridwidth": 2,
            "linecolor": "white",
            "showbackground": true,
            "ticks": "",
            "zerolinecolor": "white"
           },
           "zaxis": {
            "backgroundcolor": "#E5ECF6",
            "gridcolor": "white",
            "gridwidth": 2,
            "linecolor": "white",
            "showbackground": true,
            "ticks": "",
            "zerolinecolor": "white"
           }
          },
          "shapedefaults": {
           "line": {
            "color": "#2a3f5f"
           }
          },
          "ternary": {
           "aaxis": {
            "gridcolor": "white",
            "linecolor": "white",
            "ticks": ""
           },
           "baxis": {
            "gridcolor": "white",
            "linecolor": "white",
            "ticks": ""
           },
           "bgcolor": "#E5ECF6",
           "caxis": {
            "gridcolor": "white",
            "linecolor": "white",
            "ticks": ""
           }
          },
          "title": {
           "x": 0.05
          },
          "xaxis": {
           "automargin": true,
           "gridcolor": "white",
           "linecolor": "white",
           "ticks": "",
           "zerolinecolor": "white",
           "zerolinewidth": 2
          },
          "yaxis": {
           "automargin": true,
           "gridcolor": "white",
           "linecolor": "white",
           "ticks": "",
           "zerolinecolor": "white",
           "zerolinewidth": 2
          }
         }
        },
        "title": {
         "text": "Trend for number of Deaths"
        },
        "xaxis": {
         "tickmode": "linear"
        }
       }
      },
      "text/html": [
       "<div>\n",
       "        \n",
       "        \n",
       "            <div id=\"527fe1cc-3e5a-48a4-9199-86756f64cb24\" class=\"plotly-graph-div\" style=\"height:525px; width:100%;\"></div>\n",
       "            <script type=\"text/javascript\">\n",
       "                require([\"plotly\"], function(Plotly) {\n",
       "                    window.PLOTLYENV=window.PLOTLYENV || {};\n",
       "                    \n",
       "                if (document.getElementById(\"527fe1cc-3e5a-48a4-9199-86756f64cb24\")) {\n",
       "                    Plotly.newPlot(\n",
       "                        '527fe1cc-3e5a-48a4-9199-86756f64cb24',\n",
       "                        [{\"mode\": \"lines+markers\", \"type\": \"scatter\", \"x\": [1, 2, 3, 4, 5, 6, 7, 8, 9, 10, 11, 12], \"y\": [1868, 1839, 1526, 1345, 1223, 1319, 1339, 1662, 2082, 1605, 1965, 2725]}],\n",
       "                        {\"template\": {\"data\": {\"bar\": [{\"error_x\": {\"color\": \"#2a3f5f\"}, \"error_y\": {\"color\": \"#2a3f5f\"}, \"marker\": {\"line\": {\"color\": \"#E5ECF6\", \"width\": 0.5}}, \"type\": \"bar\"}], \"barpolar\": [{\"marker\": {\"line\": {\"color\": \"#E5ECF6\", \"width\": 0.5}}, \"type\": \"barpolar\"}], \"carpet\": [{\"aaxis\": {\"endlinecolor\": \"#2a3f5f\", \"gridcolor\": \"white\", \"linecolor\": \"white\", \"minorgridcolor\": \"white\", \"startlinecolor\": \"#2a3f5f\"}, \"baxis\": {\"endlinecolor\": \"#2a3f5f\", \"gridcolor\": \"white\", \"linecolor\": \"white\", \"minorgridcolor\": \"white\", \"startlinecolor\": \"#2a3f5f\"}, \"type\": \"carpet\"}], \"choropleth\": [{\"colorbar\": {\"outlinewidth\": 0, \"ticks\": \"\"}, \"type\": \"choropleth\"}], \"contour\": [{\"colorbar\": {\"outlinewidth\": 0, \"ticks\": \"\"}, \"colorscale\": [[0.0, \"#0d0887\"], [0.1111111111111111, \"#46039f\"], [0.2222222222222222, \"#7201a8\"], [0.3333333333333333, \"#9c179e\"], [0.4444444444444444, \"#bd3786\"], [0.5555555555555556, \"#d8576b\"], [0.6666666666666666, \"#ed7953\"], [0.7777777777777778, \"#fb9f3a\"], [0.8888888888888888, \"#fdca26\"], [1.0, \"#f0f921\"]], \"type\": \"contour\"}], \"contourcarpet\": [{\"colorbar\": {\"outlinewidth\": 0, \"ticks\": \"\"}, \"type\": \"contourcarpet\"}], \"heatmap\": [{\"colorbar\": {\"outlinewidth\": 0, \"ticks\": \"\"}, \"colorscale\": [[0.0, \"#0d0887\"], [0.1111111111111111, \"#46039f\"], [0.2222222222222222, \"#7201a8\"], [0.3333333333333333, \"#9c179e\"], [0.4444444444444444, \"#bd3786\"], [0.5555555555555556, \"#d8576b\"], [0.6666666666666666, \"#ed7953\"], [0.7777777777777778, \"#fb9f3a\"], [0.8888888888888888, \"#fdca26\"], [1.0, \"#f0f921\"]], \"type\": \"heatmap\"}], \"heatmapgl\": [{\"colorbar\": {\"outlinewidth\": 0, \"ticks\": \"\"}, \"colorscale\": [[0.0, \"#0d0887\"], [0.1111111111111111, \"#46039f\"], [0.2222222222222222, \"#7201a8\"], [0.3333333333333333, \"#9c179e\"], [0.4444444444444444, \"#bd3786\"], [0.5555555555555556, \"#d8576b\"], [0.6666666666666666, \"#ed7953\"], [0.7777777777777778, \"#fb9f3a\"], [0.8888888888888888, \"#fdca26\"], [1.0, \"#f0f921\"]], \"type\": \"heatmapgl\"}], \"histogram\": [{\"marker\": {\"colorbar\": {\"outlinewidth\": 0, \"ticks\": \"\"}}, \"type\": \"histogram\"}], \"histogram2d\": [{\"colorbar\": {\"outlinewidth\": 0, \"ticks\": \"\"}, \"colorscale\": [[0.0, \"#0d0887\"], [0.1111111111111111, \"#46039f\"], [0.2222222222222222, \"#7201a8\"], [0.3333333333333333, \"#9c179e\"], [0.4444444444444444, \"#bd3786\"], [0.5555555555555556, \"#d8576b\"], [0.6666666666666666, \"#ed7953\"], [0.7777777777777778, \"#fb9f3a\"], [0.8888888888888888, \"#fdca26\"], [1.0, \"#f0f921\"]], \"type\": \"histogram2d\"}], \"histogram2dcontour\": [{\"colorbar\": {\"outlinewidth\": 0, \"ticks\": \"\"}, \"colorscale\": [[0.0, \"#0d0887\"], [0.1111111111111111, \"#46039f\"], [0.2222222222222222, \"#7201a8\"], [0.3333333333333333, \"#9c179e\"], [0.4444444444444444, \"#bd3786\"], [0.5555555555555556, \"#d8576b\"], [0.6666666666666666, \"#ed7953\"], [0.7777777777777778, \"#fb9f3a\"], [0.8888888888888888, \"#fdca26\"], [1.0, \"#f0f921\"]], \"type\": \"histogram2dcontour\"}], \"mesh3d\": [{\"colorbar\": {\"outlinewidth\": 0, \"ticks\": \"\"}, \"type\": \"mesh3d\"}], \"parcoords\": [{\"line\": {\"colorbar\": {\"outlinewidth\": 0, \"ticks\": \"\"}}, \"type\": \"parcoords\"}], \"scatter\": [{\"marker\": {\"colorbar\": {\"outlinewidth\": 0, \"ticks\": \"\"}}, \"type\": \"scatter\"}], \"scatter3d\": [{\"line\": {\"colorbar\": {\"outlinewidth\": 0, \"ticks\": \"\"}}, \"marker\": {\"colorbar\": {\"outlinewidth\": 0, \"ticks\": \"\"}}, \"type\": \"scatter3d\"}], \"scattercarpet\": [{\"marker\": {\"colorbar\": {\"outlinewidth\": 0, \"ticks\": \"\"}}, \"type\": \"scattercarpet\"}], \"scattergeo\": [{\"marker\": {\"colorbar\": {\"outlinewidth\": 0, \"ticks\": \"\"}}, \"type\": \"scattergeo\"}], \"scattergl\": [{\"marker\": {\"colorbar\": {\"outlinewidth\": 0, \"ticks\": \"\"}}, \"type\": \"scattergl\"}], \"scattermapbox\": [{\"marker\": {\"colorbar\": {\"outlinewidth\": 0, \"ticks\": \"\"}}, \"type\": \"scattermapbox\"}], \"scatterpolar\": [{\"marker\": {\"colorbar\": {\"outlinewidth\": 0, \"ticks\": \"\"}}, \"type\": \"scatterpolar\"}], \"scatterpolargl\": [{\"marker\": {\"colorbar\": {\"outlinewidth\": 0, \"ticks\": \"\"}}, \"type\": \"scatterpolargl\"}], \"scatterternary\": [{\"marker\": {\"colorbar\": {\"outlinewidth\": 0, \"ticks\": \"\"}}, \"type\": \"scatterternary\"}], \"surface\": [{\"colorbar\": {\"outlinewidth\": 0, \"ticks\": \"\"}, \"colorscale\": [[0.0, \"#0d0887\"], [0.1111111111111111, \"#46039f\"], [0.2222222222222222, \"#7201a8\"], [0.3333333333333333, \"#9c179e\"], [0.4444444444444444, \"#bd3786\"], [0.5555555555555556, \"#d8576b\"], [0.6666666666666666, \"#ed7953\"], [0.7777777777777778, \"#fb9f3a\"], [0.8888888888888888, \"#fdca26\"], [1.0, \"#f0f921\"]], \"type\": \"surface\"}], \"table\": [{\"cells\": {\"fill\": {\"color\": \"#EBF0F8\"}, \"line\": {\"color\": \"white\"}}, \"header\": {\"fill\": {\"color\": \"#C8D4E3\"}, \"line\": {\"color\": \"white\"}}, \"type\": \"table\"}]}, \"layout\": {\"annotationdefaults\": {\"arrowcolor\": \"#2a3f5f\", \"arrowhead\": 0, \"arrowwidth\": 1}, \"colorscale\": {\"diverging\": [[0, \"#8e0152\"], [0.1, \"#c51b7d\"], [0.2, \"#de77ae\"], [0.3, \"#f1b6da\"], [0.4, \"#fde0ef\"], [0.5, \"#f7f7f7\"], [0.6, \"#e6f5d0\"], [0.7, \"#b8e186\"], [0.8, \"#7fbc41\"], [0.9, \"#4d9221\"], [1, \"#276419\"]], \"sequential\": [[0.0, \"#0d0887\"], [0.1111111111111111, \"#46039f\"], [0.2222222222222222, \"#7201a8\"], [0.3333333333333333, \"#9c179e\"], [0.4444444444444444, \"#bd3786\"], [0.5555555555555556, \"#d8576b\"], [0.6666666666666666, \"#ed7953\"], [0.7777777777777778, \"#fb9f3a\"], [0.8888888888888888, \"#fdca26\"], [1.0, \"#f0f921\"]], \"sequentialminus\": [[0.0, \"#0d0887\"], [0.1111111111111111, \"#46039f\"], [0.2222222222222222, \"#7201a8\"], [0.3333333333333333, \"#9c179e\"], [0.4444444444444444, \"#bd3786\"], [0.5555555555555556, \"#d8576b\"], [0.6666666666666666, \"#ed7953\"], [0.7777777777777778, \"#fb9f3a\"], [0.8888888888888888, \"#fdca26\"], [1.0, \"#f0f921\"]]}, \"colorway\": [\"#636efa\", \"#EF553B\", \"#00cc96\", \"#ab63fa\", \"#FFA15A\", \"#19d3f3\", \"#FF6692\", \"#B6E880\", \"#FF97FF\", \"#FECB52\"], \"font\": {\"color\": \"#2a3f5f\"}, \"geo\": {\"bgcolor\": \"white\", \"lakecolor\": \"white\", \"landcolor\": \"#E5ECF6\", \"showlakes\": true, \"showland\": true, \"subunitcolor\": \"white\"}, \"hoverlabel\": {\"align\": \"left\"}, \"hovermode\": \"closest\", \"mapbox\": {\"style\": \"light\"}, \"paper_bgcolor\": \"white\", \"plot_bgcolor\": \"#E5ECF6\", \"polar\": {\"angularaxis\": {\"gridcolor\": \"white\", \"linecolor\": \"white\", \"ticks\": \"\"}, \"bgcolor\": \"#E5ECF6\", \"radialaxis\": {\"gridcolor\": \"white\", \"linecolor\": \"white\", \"ticks\": \"\"}}, \"scene\": {\"xaxis\": {\"backgroundcolor\": \"#E5ECF6\", \"gridcolor\": \"white\", \"gridwidth\": 2, \"linecolor\": \"white\", \"showbackground\": true, \"ticks\": \"\", \"zerolinecolor\": \"white\"}, \"yaxis\": {\"backgroundcolor\": \"#E5ECF6\", \"gridcolor\": \"white\", \"gridwidth\": 2, \"linecolor\": \"white\", \"showbackground\": true, \"ticks\": \"\", \"zerolinecolor\": \"white\"}, \"zaxis\": {\"backgroundcolor\": \"#E5ECF6\", \"gridcolor\": \"white\", \"gridwidth\": 2, \"linecolor\": \"white\", \"showbackground\": true, \"ticks\": \"\", \"zerolinecolor\": \"white\"}}, \"shapedefaults\": {\"line\": {\"color\": \"#2a3f5f\"}}, \"ternary\": {\"aaxis\": {\"gridcolor\": \"white\", \"linecolor\": \"white\", \"ticks\": \"\"}, \"baxis\": {\"gridcolor\": \"white\", \"linecolor\": \"white\", \"ticks\": \"\"}, \"bgcolor\": \"#E5ECF6\", \"caxis\": {\"gridcolor\": \"white\", \"linecolor\": \"white\", \"ticks\": \"\"}}, \"title\": {\"x\": 0.05}, \"xaxis\": {\"automargin\": true, \"gridcolor\": \"white\", \"linecolor\": \"white\", \"ticks\": \"\", \"zerolinecolor\": \"white\", \"zerolinewidth\": 2}, \"yaxis\": {\"automargin\": true, \"gridcolor\": \"white\", \"linecolor\": \"white\", \"ticks\": \"\", \"zerolinecolor\": \"white\", \"zerolinewidth\": 2}}}, \"title\": {\"text\": \"Trend for number of Deaths\"}, \"xaxis\": {\"tickmode\": \"linear\"}},\n",
       "                        {\"responsive\": true}\n",
       "                    ).then(function(){\n",
       "                            \n",
       "var gd = document.getElementById('527fe1cc-3e5a-48a4-9199-86756f64cb24');\n",
       "var x = new MutationObserver(function (mutations, observer) {{\n",
       "        var display = window.getComputedStyle(gd).display;\n",
       "        if (!display || display === 'none') {{\n",
       "            console.log([gd, 'removed!']);\n",
       "            Plotly.purge(gd);\n",
       "            observer.disconnect();\n",
       "        }}\n",
       "}});\n",
       "\n",
       "// Listen for the removal of the full notebook cells\n",
       "var notebookContainer = gd.closest('#notebook-container');\n",
       "if (notebookContainer) {{\n",
       "    x.observe(notebookContainer, {childList: true});\n",
       "}}\n",
       "\n",
       "// Listen for the clearing of the current output cell\n",
       "var outputEl = gd.closest('.output');\n",
       "if (outputEl) {{\n",
       "    x.observe(outputEl, {childList: true});\n",
       "}}\n",
       "\n",
       "                        })\n",
       "                };\n",
       "                });\n",
       "            </script>\n",
       "        </div>"
      ]
     },
     "metadata": {},
     "output_type": "display_data"
    }
   ],
   "source": [
    "v_counts_index, v_counts_values= zip(*sorted(zip(df.DOD_m.value_counts().index, df.DOD_m.value_counts().values)))\n",
    "trace1 = go.Scatter(x=v_counts_index, y=v_counts_values,\n",
    "                mode='lines+markers')\n",
    "\n",
    "layout = go.Layout(\n",
    "    title= \"Trend for number of Deaths\",\n",
    "    xaxis = go.layout.XAxis(\n",
    "        tickmode = 'linear'\n",
    "    ))\n",
    "fig = go.Figure(data=[trace1], layout=layout)\n",
    "    \n",
    "\n",
    "fig.show()"
   ]
  },
  {
   "cell_type": "markdown",
   "metadata": {},
   "source": [
    "## Conclusion\n",
    "\n",
    "my conclusion is based on two observations: \n",
    "1 - The trend plot above, it shows that Shaban is the month where deaths start to rise until the beginning of the next year.\n",
    "2 - From the analysis that was done on senior people, Shaban is when the trend start as well. \n",
    "Those two observations might give Shaban a psychological significance, especially among older people. \n",
    "\n",
    "On another note, I think this notion of deaths are more common in Shaban is caused by the high anticipation of Ramadan. Dying a month before Ramadan is more significant than any other time."
   ]
  },
  {
   "cell_type": "markdown",
   "metadata": {},
   "source": [
    "~ The End "
   ]
  },
  {
   "cell_type": "code",
   "execution_count": null,
   "metadata": {},
   "outputs": [],
   "source": []
  }
 ],
 "metadata": {
  "kernelspec": {
   "display_name": "Python 3",
   "language": "python",
   "name": "python3"
  },
  "language_info": {
   "codemirror_mode": {
    "name": "ipython",
    "version": 3
   },
   "file_extension": ".py",
   "mimetype": "text/x-python",
   "name": "python",
   "nbconvert_exporter": "python",
   "pygments_lexer": "ipython3",
   "version": "3.7.1"
  }
 },
 "nbformat": 4,
 "nbformat_minor": 2
}
